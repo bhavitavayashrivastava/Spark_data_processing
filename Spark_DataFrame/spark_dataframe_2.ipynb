{
 "cells": [
  {
   "cell_type": "code",
   "execution_count": 2,
   "metadata": {},
   "outputs": [],
   "source": [
    "import findspark\n",
    "findspark.init()\n",
    "from pyspark.sql import *"
   ]
  },
  {
   "cell_type": "code",
   "execution_count": 3,
   "metadata": {},
   "outputs": [],
   "source": [
    "Employee = Row('firstname','lastname','email','salary')"
   ]
  },
  {
   "cell_type": "code",
   "execution_count": 6,
   "metadata": {},
   "outputs": [],
   "source": [
    "emp1 = Employee('Basher','Ali','bash@rediffmail.com',10000)\n",
    "emp2 = Employee('Anil','Shri','anil@gmail.com',42000)\n",
    "emp3 = Employee('Reema',None,'remma@hotmail.com',12000)"
   ]
  },
  {
   "cell_type": "code",
   "execution_count": 7,
   "metadata": {},
   "outputs": [],
   "source": [
    "department1 = Row(id='12345',name='HR')\n",
    "department2 = Row(id='12350',name='FN')\n",
    "department3 = Row(id='12355',name='DEV')"
   ]
  },
  {
   "cell_type": "code",
   "execution_count": 8,
   "metadata": {},
   "outputs": [
    {
     "name": "stdout",
     "output_type": "stream",
     "text": [
      "Row(firstname='Reema', lastname=None, email='remma@hotmail.com', salary=12000)\n"
     ]
    }
   ],
   "source": [
    "print(emp3)"
   ]
  },
  {
   "cell_type": "code",
   "execution_count": 9,
   "metadata": {},
   "outputs": [
    {
     "name": "stdout",
     "output_type": "stream",
     "text": [
      "Row(id='12345', name='HR')\n"
     ]
    }
   ],
   "source": [
    "print(department1)"
   ]
  },
  {
   "cell_type": "code",
   "execution_count": 11,
   "metadata": {},
   "outputs": [],
   "source": [
    "spark = SparkSession.builder.getOrCreate()"
   ]
  },
  {
   "cell_type": "code",
   "execution_count": 14,
   "metadata": {},
   "outputs": [
    {
     "data": {
      "text/plain": [
       "18207"
      ]
     },
     "execution_count": 14,
     "metadata": {},
     "output_type": "execute_result"
    }
   ],
   "source": [
    "fifa_df = spark.read.csv('fifa.csv',inferSchema=True,header=True)\n",
    "fifa_df.count()"
   ]
  },
  {
   "cell_type": "code",
   "execution_count": 16,
   "metadata": {},
   "outputs": [
    {
     "name": "stdout",
     "output_type": "stream",
     "text": [
      "root\n",
      " |-- _c0: integer (nullable = true)\n",
      " |-- ID: integer (nullable = true)\n",
      " |-- Name: string (nullable = true)\n",
      " |-- Age: integer (nullable = true)\n",
      " |-- Photo: string (nullable = true)\n",
      " |-- Nationality: string (nullable = true)\n",
      " |-- Flag: string (nullable = true)\n",
      " |-- Overall: integer (nullable = true)\n",
      " |-- Potential: integer (nullable = true)\n",
      " |-- Club: string (nullable = true)\n",
      " |-- Club Logo: string (nullable = true)\n",
      " |-- Value: string (nullable = true)\n",
      " |-- Wage: string (nullable = true)\n",
      " |-- Special: integer (nullable = true)\n",
      " |-- Preferred Foot: string (nullable = true)\n",
      " |-- International Reputation: integer (nullable = true)\n",
      " |-- Weak Foot: integer (nullable = true)\n",
      " |-- Skill Moves: integer (nullable = true)\n",
      " |-- Work Rate: string (nullable = true)\n",
      " |-- Body Type: string (nullable = true)\n",
      " |-- Real Face: string (nullable = true)\n",
      " |-- Position: string (nullable = true)\n",
      " |-- Jersey Number: integer (nullable = true)\n",
      " |-- Joined: string (nullable = true)\n",
      " |-- Loaned From: string (nullable = true)\n",
      " |-- Contract Valid Until: string (nullable = true)\n",
      " |-- Height: string (nullable = true)\n",
      " |-- Weight: string (nullable = true)\n",
      " |-- LS: string (nullable = true)\n",
      " |-- ST: string (nullable = true)\n",
      " |-- RS: string (nullable = true)\n",
      " |-- LW: string (nullable = true)\n",
      " |-- LF: string (nullable = true)\n",
      " |-- CF: string (nullable = true)\n",
      " |-- RF: string (nullable = true)\n",
      " |-- RW: string (nullable = true)\n",
      " |-- LAM: string (nullable = true)\n",
      " |-- CAM: string (nullable = true)\n",
      " |-- RAM: string (nullable = true)\n",
      " |-- LM: string (nullable = true)\n",
      " |-- LCM: string (nullable = true)\n",
      " |-- CM: string (nullable = true)\n",
      " |-- RCM: string (nullable = true)\n",
      " |-- RM: string (nullable = true)\n",
      " |-- LWB: string (nullable = true)\n",
      " |-- LDM: string (nullable = true)\n",
      " |-- CDM: string (nullable = true)\n",
      " |-- RDM: string (nullable = true)\n",
      " |-- RWB: string (nullable = true)\n",
      " |-- LB: string (nullable = true)\n",
      " |-- LCB: string (nullable = true)\n",
      " |-- CB: string (nullable = true)\n",
      " |-- RCB: string (nullable = true)\n",
      " |-- RB: string (nullable = true)\n",
      " |-- Crossing: integer (nullable = true)\n",
      " |-- Finishing: integer (nullable = true)\n",
      " |-- HeadingAccuracy: integer (nullable = true)\n",
      " |-- ShortPassing: integer (nullable = true)\n",
      " |-- Volleys: integer (nullable = true)\n",
      " |-- Dribbling: integer (nullable = true)\n",
      " |-- Curve: integer (nullable = true)\n",
      " |-- FKAccuracy: integer (nullable = true)\n",
      " |-- LongPassing: integer (nullable = true)\n",
      " |-- BallControl: integer (nullable = true)\n",
      " |-- Acceleration: integer (nullable = true)\n",
      " |-- SprintSpeed: integer (nullable = true)\n",
      " |-- Agility: integer (nullable = true)\n",
      " |-- Reactions: integer (nullable = true)\n",
      " |-- Balance: integer (nullable = true)\n",
      " |-- ShotPower: integer (nullable = true)\n",
      " |-- Jumping: integer (nullable = true)\n",
      " |-- Stamina: integer (nullable = true)\n",
      " |-- Strength: integer (nullable = true)\n",
      " |-- LongShots: integer (nullable = true)\n",
      " |-- Aggression: integer (nullable = true)\n",
      " |-- Interceptions: integer (nullable = true)\n",
      " |-- Positioning: integer (nullable = true)\n",
      " |-- Vision: integer (nullable = true)\n",
      " |-- Penalties: integer (nullable = true)\n",
      " |-- Composure: integer (nullable = true)\n",
      " |-- Marking: integer (nullable = true)\n",
      " |-- StandingTackle: integer (nullable = true)\n",
      " |-- SlidingTackle: integer (nullable = true)\n",
      " |-- GKDiving: integer (nullable = true)\n",
      " |-- GKHandling: integer (nullable = true)\n",
      " |-- GKKicking: integer (nullable = true)\n",
      " |-- GKPositioning: integer (nullable = true)\n",
      " |-- GKReflexes: integer (nullable = true)\n",
      " |-- Release Clause: string (nullable = true)\n",
      "\n"
     ]
    }
   ],
   "source": [
    "fifa_df.printSchema()"
   ]
  },
  {
   "cell_type": "code",
   "execution_count": 18,
   "metadata": {},
   "outputs": [
    {
     "data": {
      "text/plain": [
       "['_c0',\n",
       " 'ID',\n",
       " 'Name',\n",
       " 'Age',\n",
       " 'Photo',\n",
       " 'Nationality',\n",
       " 'Flag',\n",
       " 'Overall',\n",
       " 'Potential',\n",
       " 'Club',\n",
       " 'Club Logo',\n",
       " 'Value',\n",
       " 'Wage',\n",
       " 'Special',\n",
       " 'Preferred Foot',\n",
       " 'International Reputation',\n",
       " 'Weak Foot',\n",
       " 'Skill Moves',\n",
       " 'Work Rate',\n",
       " 'Body Type',\n",
       " 'Real Face',\n",
       " 'Position',\n",
       " 'Jersey Number',\n",
       " 'Joined',\n",
       " 'Loaned From',\n",
       " 'Contract Valid Until',\n",
       " 'Height',\n",
       " 'Weight',\n",
       " 'LS',\n",
       " 'ST',\n",
       " 'RS',\n",
       " 'LW',\n",
       " 'LF',\n",
       " 'CF',\n",
       " 'RF',\n",
       " 'RW',\n",
       " 'LAM',\n",
       " 'CAM',\n",
       " 'RAM',\n",
       " 'LM',\n",
       " 'LCM',\n",
       " 'CM',\n",
       " 'RCM',\n",
       " 'RM',\n",
       " 'LWB',\n",
       " 'LDM',\n",
       " 'CDM',\n",
       " 'RDM',\n",
       " 'RWB',\n",
       " 'LB',\n",
       " 'LCB',\n",
       " 'CB',\n",
       " 'RCB',\n",
       " 'RB',\n",
       " 'Crossing',\n",
       " 'Finishing',\n",
       " 'HeadingAccuracy',\n",
       " 'ShortPassing',\n",
       " 'Volleys',\n",
       " 'Dribbling',\n",
       " 'Curve',\n",
       " 'FKAccuracy',\n",
       " 'LongPassing',\n",
       " 'BallControl',\n",
       " 'Acceleration',\n",
       " 'SprintSpeed',\n",
       " 'Agility',\n",
       " 'Reactions',\n",
       " 'Balance',\n",
       " 'ShotPower',\n",
       " 'Jumping',\n",
       " 'Stamina',\n",
       " 'Strength',\n",
       " 'LongShots',\n",
       " 'Aggression',\n",
       " 'Interceptions',\n",
       " 'Positioning',\n",
       " 'Vision',\n",
       " 'Penalties',\n",
       " 'Composure',\n",
       " 'Marking',\n",
       " 'StandingTackle',\n",
       " 'SlidingTackle',\n",
       " 'GKDiving',\n",
       " 'GKHandling',\n",
       " 'GKKicking',\n",
       " 'GKPositioning',\n",
       " 'GKReflexes',\n",
       " 'Release Clause']"
      ]
     },
     "execution_count": 18,
     "metadata": {},
     "output_type": "execute_result"
    }
   ],
   "source": [
    "fifa_df.columns"
   ]
  },
  {
   "cell_type": "code",
   "execution_count": 19,
   "metadata": {},
   "outputs": [
    {
     "data": {
      "text/plain": [
       "89"
      ]
     },
     "execution_count": 19,
     "metadata": {},
     "output_type": "execute_result"
    }
   ],
   "source": [
    "len(fifa_df.columns)"
   ]
  },
  {
   "cell_type": "code",
   "execution_count": 20,
   "metadata": {},
   "outputs": [
    {
     "name": "stdout",
     "output_type": "stream",
     "text": [
      "+-------+-----+\n",
      "|summary|Value|\n",
      "+-------+-----+\n",
      "|  count|18207|\n",
      "|   mean| null|\n",
      "| stddev| null|\n",
      "|    min|   €0|\n",
      "|    max|  €9M|\n",
      "+-------+-----+\n",
      "\n"
     ]
    }
   ],
   "source": [
    "fifa_df.describe('Value').show()"
   ]
  },
  {
   "cell_type": "code",
   "execution_count": 21,
   "metadata": {},
   "outputs": [],
   "source": [
    "df = fifa_df.select('Name','Age','Nationality','Club','Potential','Value','Position','Special')"
   ]
  },
  {
   "cell_type": "code",
   "execution_count": 23,
   "metadata": {},
   "outputs": [
    {
     "data": {
      "text/plain": [
       "18207"
      ]
     },
     "execution_count": 23,
     "metadata": {},
     "output_type": "execute_result"
    }
   ],
   "source": [
    "df.count()"
   ]
  },
  {
   "cell_type": "code",
   "execution_count": 24,
   "metadata": {},
   "outputs": [
    {
     "name": "stdout",
     "output_type": "stream",
     "text": [
      "+-----------------+--------+-------+\n",
      "|             Name|Position|Special|\n",
      "+-----------------+--------+-------+\n",
      "|         L. Messi|      RF|   2202|\n",
      "|Cristiano Ronaldo|      ST|   2228|\n",
      "|        Neymar Jr|      LW|   2143|\n",
      "|           De Gea|      GK|   1471|\n",
      "|     K. De Bruyne|     RCM|   2281|\n",
      "|        E. Hazard|      LF|   2142|\n",
      "|        L. Modrić|     RCM|   2280|\n",
      "|        L. Suárez|      RS|   2346|\n",
      "|     Sergio Ramos|     RCB|   2201|\n",
      "|         J. Oblak|      GK|   1331|\n",
      "|   R. Lewandowski|      ST|   2152|\n",
      "|         T. Kroos|     LCM|   2190|\n",
      "|         D. Godín|      CB|   1946|\n",
      "|      David Silva|     LCM|   2115|\n",
      "|         N. Kanté|     LDM|   2189|\n",
      "|        P. Dybala|      LF|   2092|\n",
      "|          H. Kane|      ST|   2165|\n",
      "|     A. Griezmann|     CAM|   2246|\n",
      "|    M. ter Stegen|      GK|   1328|\n",
      "|      T. Courtois|      GK|   1311|\n",
      "+-----------------+--------+-------+\n",
      "only showing top 20 rows\n",
      "\n"
     ]
    }
   ],
   "source": [
    "df.select('Name','Position','Special').show()"
   ]
  },
  {
   "cell_type": "code",
   "execution_count": 25,
   "metadata": {},
   "outputs": [
    {
     "name": "stdout",
     "output_type": "stream",
     "text": [
      "+------------------+---+-----------+--------------------+---------+-------+--------+-------+\n",
      "|              Name|Age|Nationality|                Club|Potential|  Value|Position|Special|\n",
      "+------------------+---+-----------+--------------------+---------+-------+--------+-------+\n",
      "|          L. Messi| 31|  Argentina|        FC Barcelona|       94|€110.5M|      RF|   2202|\n",
      "|        D. Mertens| 31|    Belgium|              Napoli|       87|   €45M|      RF|   2043|\n",
      "|         D. Valeri| 32|  Argentina|    Portland Timbers|       80| €11.5M|      RF|   2009|\n",
      "|       L. Podolski| 33|    Germany|         Vissel Kobe|       78|  €6.5M|      RF|   2048|\n",
      "|          C. Ciano| 28|      Italy|           Frosinone|       75|  €6.5M|      RF|   1833|\n",
      "|        P. Gerkens| 23|    Belgium|      RSC Anderlecht|       77|  €4.2M|      RF|   1909|\n",
      "|       Zhang Xizhe| 27|   China PR|Beijing Sinobo Gu...|       72|  €3.3M|      RF|   1844|\n",
      "|       C. Falletti| 25|    Uruguay|             Palermo|       75|  €3.9M|      RF|   1770|\n",
      "|          Rafa Mir| 21|      Spain|       UD Las Palmas|       81|  €3.1M|      RF|   1769|\n",
      "|         H. Yamada| 29|      Japan|        Júbilo Iwata|       69|    €1M|      RF|   1861|\n",
      "|D. Moberg Karlsson| 24|     Sweden|      IFK Norrköping|       75|  €1.5M|      RF|   1677|\n",
      "|        P. Forsell| 27|    Finland|       Miedź Legnica|       69|  €1.1M|      RF|   1795|\n",
      "|         A. Aosman| 23|      Syria|   SG Dynamo Dresden|       73|  €1.2M|      RF|   1776|\n",
      "|         K. Tamada| 38|      Japan|      Nagoya Grampus|       66|  €220K|      RF|   1711|\n",
      "|        G. Notsuda| 24|      Japan|      Vegalta Sendai|       70|  €850K|      RF|   1716|\n",
      "|       L. Grozurek| 26|    Austria|       SK Sturm Graz|       66|  €625K|      RF|   1660|\n",
      "+------------------+---+-----------+--------------------+---------+-------+--------+-------+\n",
      "\n"
     ]
    }
   ],
   "source": [
    "df.filter(df.Position=='RF').show()"
   ]
  },
  {
   "cell_type": "code",
   "execution_count": 28,
   "metadata": {},
   "outputs": [
    {
     "name": "stdout",
     "output_type": "stream",
     "text": [
      "+-----------------+---+-----------+-------------------+---------+-------+--------+-------+\n",
      "|             Name|Age|Nationality|               Club|Potential|  Value|Position|Special|\n",
      "+-----------------+---+-----------+-------------------+---------+-------+--------+-------+\n",
      "|        K. Mbappé| 19|     France|Paris Saint-Germain|       95|   €81M|      RM|   2118|\n",
      "|        P. Dybala| 24|  Argentina|           Juventus|       94|   €89M|      LF|   2092|\n",
      "|         L. Messi| 31|  Argentina|       FC Barcelona|       94|€110.5M|      RF|   2202|\n",
      "|Cristiano Ronaldo| 33|   Portugal|           Juventus|       94|   €77M|      ST|   2228|\n",
      "|    G. Donnarumma| 19|      Italy|              Milan|       93|   €29M|      GK|   1278|\n",
      "|        Neymar Jr| 26|     Brazil|Paris Saint-Germain|       93|€118.5M|      LW|   2143|\n",
      "|           De Gea| 27|      Spain|  Manchester United|       93|   €72M|      GK|   1471|\n",
      "|         J. Oblak| 25|   Slovenia|    Atlético Madrid|       93|   €68M|      GK|   1331|\n",
      "|          L. Sané| 22|    Germany|    Manchester City|       92|   €61M|      LW|   2090|\n",
      "|     K. De Bruyne| 27|    Belgium|    Manchester City|       92|  €102M|     RCM|   2281|\n",
      "|    Gabriel Jesus| 21|     Brazil|    Manchester City|       92|   €41M|      ST|   2051|\n",
      "|  Vinícius Júnior| 17|     Brazil|        Real Madrid|       92| €17.5M|      LW|   1849|\n",
      "|      M. Škriniar| 23|   Slovakia|              Inter|       92| €46.5M|     LCB|   1800|\n",
      "|        S. Umtiti| 24|     France|       FC Barcelona|       92|   €57M|      CB|   2147|\n",
      "|    Marco Asensio| 22|      Spain|        Real Madrid|       92|   €54M|      RW|   2050|\n",
      "|       O. Dembélé| 21|     France|       FC Barcelona|       92|   €40M|      RW|   1993|\n",
      "|    M. ter Stegen| 26|    Germany|       FC Barcelona|       92|   €58M|      GK|   1328|\n",
      "|         P. Pogba| 25|     France|  Manchester United|       91|   €64M|     RDM|   2247|\n",
      "|        L. Suárez| 31|    Uruguay|       FC Barcelona|       91|   €80M|      RS|   2346|\n",
      "|        E. Hazard| 27|    Belgium|            Chelsea|       91|   €93M|      LF|   2142|\n",
      "+-----------------+---+-----------+-------------------+---------+-------+--------+-------+\n",
      "only showing top 20 rows\n",
      "\n"
     ]
    }
   ],
   "source": [
    "df.orderBy(-df.Potential).show()"
   ]
  },
  {
   "cell_type": "code",
   "execution_count": 29,
   "metadata": {},
   "outputs": [],
   "source": [
    "df.registerTempTable('fifa_table')"
   ]
  },
  {
   "cell_type": "code",
   "execution_count": 35,
   "metadata": {},
   "outputs": [
    {
     "name": "stdout",
     "output_type": "stream",
     "text": [
      "+-----------------+---+-----------+-------------------+---------+-------+--------+-------+\n",
      "|             Name|Age|Nationality|               Club|Potential|  Value|Position|Special|\n",
      "+-----------------+---+-----------+-------------------+---------+-------+--------+-------+\n",
      "|         L. Messi| 31|  Argentina|       FC Barcelona|       94|€110.5M|      RF|   2202|\n",
      "|Cristiano Ronaldo| 33|   Portugal|           Juventus|       94|   €77M|      ST|   2228|\n",
      "|        Neymar Jr| 26|     Brazil|Paris Saint-Germain|       93|€118.5M|      LW|   2143|\n",
      "|           De Gea| 27|      Spain|  Manchester United|       93|   €72M|      GK|   1471|\n",
      "|     K. De Bruyne| 27|    Belgium|    Manchester City|       92|  €102M|     RCM|   2281|\n",
      "|        E. Hazard| 27|    Belgium|            Chelsea|       91|   €93M|      LF|   2142|\n",
      "|        L. Modrić| 32|    Croatia|        Real Madrid|       91|   €67M|     RCM|   2280|\n",
      "|        L. Suárez| 31|    Uruguay|       FC Barcelona|       91|   €80M|      RS|   2346|\n",
      "|     Sergio Ramos| 32|      Spain|        Real Madrid|       91|   €51M|     RCB|   2201|\n",
      "|         J. Oblak| 25|   Slovenia|    Atlético Madrid|       93|   €68M|      GK|   1331|\n",
      "+-----------------+---+-----------+-------------------+---------+-------+--------+-------+\n",
      "\n"
     ]
    }
   ],
   "source": [
    "spark.sql('Select * from fifa_table limit 10').show()"
   ]
  },
  {
   "cell_type": "code",
   "execution_count": 38,
   "metadata": {},
   "outputs": [],
   "source": [
    "super_hero = spark.read.csv('superheros.csv',inferSchema=True,header=True)"
   ]
  },
  {
   "cell_type": "code",
   "execution_count": 39,
   "metadata": {},
   "outputs": [
    {
     "name": "stdout",
     "output_type": "stream",
     "text": [
      "+---+-----------------+------+---------+-----------------+----------+------+-----------------+----------+---------+------+\n",
      "|_c0|             name|Gender|Eye color|             Race|Hair color|Height|        Publisher|Skin color|Alignment|Weight|\n",
      "+---+-----------------+------+---------+-----------------+----------+------+-----------------+----------+---------+------+\n",
      "|  0|           A-Bomb|  Male|   yellow|            Human|   No Hair| 203.0|    Marvel Comics|         -|     good| 441.0|\n",
      "|  1|       Abe Sapien|  Male|     blue|    Icthyo Sapien|   No Hair| 191.0|Dark Horse Comics|      blue|     good|  65.0|\n",
      "|  2|         Abin Sur|  Male|     blue|          Ungaran|   No Hair| 185.0|        DC Comics|       red|     good|  90.0|\n",
      "|  3|      Abomination|  Male|    green|Human / Radiation|   No Hair| 203.0|    Marvel Comics|         -|      bad| 441.0|\n",
      "|  4|          Abraxas|  Male|     blue|    Cosmic Entity|     Black| -99.0|    Marvel Comics|         -|      bad| -99.0|\n",
      "|  5|    Absorbing Man|  Male|     blue|            Human|   No Hair| 193.0|    Marvel Comics|         -|      bad| 122.0|\n",
      "|  6|      Adam Monroe|  Male|     blue|                -|     Blond| -99.0|     NBC - Heroes|         -|     good| -99.0|\n",
      "|  7|     Adam Strange|  Male|     blue|            Human|     Blond| 185.0|        DC Comics|         -|     good|  88.0|\n",
      "|  8|         Agent 13|Female|     blue|                -|     Blond| 173.0|    Marvel Comics|         -|     good|  61.0|\n",
      "|  9|        Agent Bob|  Male|    brown|            Human|     Brown| 178.0|    Marvel Comics|         -|     good|  81.0|\n",
      "| 10|       Agent Zero|  Male|        -|                -|         -| 191.0|    Marvel Comics|         -|     good| 104.0|\n",
      "| 11|       Air-Walker|  Male|     blue|                -|     White| 188.0|    Marvel Comics|         -|      bad| 108.0|\n",
      "| 12|             Ajax|  Male|    brown|           Cyborg|     Black| 193.0|    Marvel Comics|         -|      bad|  90.0|\n",
      "| 13|       Alan Scott|  Male|     blue|                -|     Blond| 180.0|        DC Comics|         -|     good|  90.0|\n",
      "| 14|      Alex Mercer|  Male|        -|            Human|         -| -99.0|        Wildstorm|         -|      bad| -99.0|\n",
      "| 15|     Alex Woolsly|  Male|        -|                -|         -| -99.0|     NBC - Heroes|         -|     good| -99.0|\n",
      "| 16|Alfred Pennyworth|  Male|     blue|            Human|     Black| 178.0|        DC Comics|         -|     good|  72.0|\n",
      "| 17|            Alien|  Male|        -|  Xenomorph XX121|   No Hair| 244.0|Dark Horse Comics|     black|      bad| 169.0|\n",
      "| 18| Allan Quatermain|  Male|        -|                -|         -| -99.0|        Wildstorm|         -|     good| -99.0|\n",
      "| 19|            Amazo|  Male|      red|          Android|         -| 257.0|        DC Comics|         -|      bad| 173.0|\n",
      "+---+-----------------+------+---------+-----------------+----------+------+-----------------+----------+---------+------+\n",
      "only showing top 20 rows\n",
      "\n"
     ]
    }
   ],
   "source": [
    "super_hero.show()"
   ]
  },
  {
   "cell_type": "code",
   "execution_count": 41,
   "metadata": {},
   "outputs": [
    {
     "data": {
      "text/plain": [
       "505"
      ]
     },
     "execution_count": 41,
     "metadata": {},
     "output_type": "execute_result"
    }
   ],
   "source": [
    "super_hero.filter(super_hero.Gender=='Male').count()"
   ]
  },
  {
   "cell_type": "code",
   "execution_count": 42,
   "metadata": {},
   "outputs": [
    {
     "data": {
      "text/plain": [
       "200"
      ]
     },
     "execution_count": 42,
     "metadata": {},
     "output_type": "execute_result"
    }
   ],
   "source": [
    "super_hero.filter(super_hero.Gender=='Female').count()"
   ]
  },
  {
   "cell_type": "code",
   "execution_count": 43,
   "metadata": {},
   "outputs": [
    {
     "name": "stdout",
     "output_type": "stream",
     "text": [
      "+------------------+-----+\n",
      "|              Race|count|\n",
      "+------------------+-----+\n",
      "|          Neyaphem|    1|\n",
      "|          Symbiote|    9|\n",
      "|        Kryptonian|    7|\n",
      "|           Ungaran|    1|\n",
      "|           Martian|    1|\n",
      "|         Strontian|    1|\n",
      "| Human / Radiation|   11|\n",
      "|   Kakarantharaian|    1|\n",
      "|         Metahuman|    2|\n",
      "|Dathomirian Zabrak|    1|\n",
      "|    Human / Cosmic|    2|\n",
      "|   Xenomorph XX121|    1|\n",
      "|            Animal|    4|\n",
      "|       Frost Giant|    2|\n",
      "|            Cyborg|   11|\n",
      "|           Inhuman|    4|\n",
      "|     God / Eternal|   14|\n",
      "|    Yoda's species|    1|\n",
      "|     Icthyo Sapien|    1|\n",
      "|            Rodian|    1|\n",
      "+------------------+-----+\n",
      "only showing top 20 rows\n",
      "\n"
     ]
    }
   ],
   "source": [
    "race_df = super_hero.groupby('Race').count().show()"
   ]
  },
  {
   "cell_type": "code",
   "execution_count": null,
   "metadata": {},
   "outputs": [],
   "source": []
  }
 ],
 "metadata": {
  "kernelspec": {
   "display_name": "Python 3",
   "language": "python",
   "name": "python3"
  },
  "language_info": {
   "codemirror_mode": {
    "name": "ipython",
    "version": 3
   },
   "file_extension": ".py",
   "mimetype": "text/x-python",
   "name": "python",
   "nbconvert_exporter": "python",
   "pygments_lexer": "ipython3",
   "version": "3.7.3"
  }
 },
 "nbformat": 4,
 "nbformat_minor": 2
}
