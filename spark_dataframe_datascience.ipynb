{
 "cells": [
  {
   "cell_type": "code",
   "execution_count": 1,
   "metadata": {},
   "outputs": [],
   "source": [
    "import findspark\n",
    "findspark.init()\n",
    "from pyspark.sql import SparkSession\n",
    "import pyspark\n",
    "spark = SparkSession.builder.getOrCreate()"
   ]
  },
  {
   "cell_type": "code",
   "execution_count": 2,
   "metadata": {},
   "outputs": [
    {
     "data": {
      "text/html": [
       "\n",
       "            <div>\n",
       "                <p><b>SparkSession - in-memory</b></p>\n",
       "                \n",
       "        <div>\n",
       "            <p><b>SparkContext</b></p>\n",
       "\n",
       "            <p><a href=\"http://bhavitavaya:4040\">Spark UI</a></p>\n",
       "\n",
       "            <dl>\n",
       "              <dt>Version</dt>\n",
       "                <dd><code>v2.4.4</code></dd>\n",
       "              <dt>Master</dt>\n",
       "                <dd><code>local[*]</code></dd>\n",
       "              <dt>AppName</dt>\n",
       "                <dd><code>pyspark-shell</code></dd>\n",
       "            </dl>\n",
       "        </div>\n",
       "        \n",
       "            </div>\n",
       "        "
      ],
      "text/plain": [
       "<pyspark.sql.session.SparkSession at 0x80319c8>"
      ]
     },
     "execution_count": 2,
     "metadata": {},
     "output_type": "execute_result"
    }
   ],
   "source": [
    "spark"
   ]
  },
  {
   "cell_type": "code",
   "execution_count": 3,
   "metadata": {},
   "outputs": [],
   "source": [
    "cases = spark.read.csv('C:\\\\Users\\\\admin\\\\Desktop\\\\spark-data\\\\case.csv',inferSchema=True,header=True)"
   ]
  },
  {
   "cell_type": "code",
   "execution_count": 4,
   "metadata": {},
   "outputs": [
    {
     "data": {
      "text/plain": [
       "174"
      ]
     },
     "execution_count": 4,
     "metadata": {},
     "output_type": "execute_result"
    }
   ],
   "source": [
    "cases.count()"
   ]
  },
  {
   "cell_type": "code",
   "execution_count": 5,
   "metadata": {},
   "outputs": [
    {
     "name": "stdout",
     "output_type": "stream",
     "text": [
      "+--------+--------+---------------+-----+--------------------+---------+---------+----------+\n",
      "| case_id|province|           city|group|      infection_case|confirmed| latitude| longitude|\n",
      "+--------+--------+---------------+-----+--------------------+---------+---------+----------+\n",
      "| 1000001|   Seoul|     Yongsan-gu| true|       Itaewon Clubs|      139|37.538621|126.992652|\n",
      "| 1000002|   Seoul|      Gwanak-gu| true|             Richway|      119| 37.48208|126.901384|\n",
      "| 1000003|   Seoul|        Guro-gu| true| Guro-gu Call Center|       95|37.508163|126.884387|\n",
      "| 1000004|   Seoul|   Yangcheon-gu| true|Yangcheon Table T...|       43|37.546061|126.874209|\n",
      "| 1000005|   Seoul|      Dobong-gu| true|     Day Care Center|       43|37.679422|127.044374|\n",
      "| 1000006|   Seoul|        Guro-gu| true|Manmin Central Ch...|       41|37.481059|126.894343|\n",
      "| 1000007|   Seoul|from other city| true|SMR Newly Planted...|       36|        -|         -|\n",
      "| 1000008|   Seoul|  Dongdaemun-gu| true|       Dongan Church|       17|37.592888|127.056766|\n",
      "| 1000009|   Seoul|from other city| true|Coupang Logistics...|       25|        -|         -|\n",
      "| 1000010|   Seoul|      Gwanak-gu| true|     Wangsung Church|       30|37.481735|126.930121|\n",
      "| 1000011|   Seoul|   Eunpyeong-gu| true|Eunpyeong St. Mar...|       14| 37.63369|  126.9165|\n",
      "| 1000012|   Seoul|   Seongdong-gu| true|    Seongdong-gu APT|       13| 37.55713|  127.0403|\n",
      "| 1000013|   Seoul|      Jongno-gu| true|Jongno Community ...|       10| 37.57681|   127.006|\n",
      "| 1000014|   Seoul|     Gangnam-gu| true|Samsung Medical C...|        7| 37.48825| 127.08559|\n",
      "| 1000015|   Seoul|        Jung-gu| true|Jung-gu Fashion C...|        7|37.562405|126.984377|\n",
      "| 1000016|   Seoul|   Seodaemun-gu| true|  Yeonana News Class|        5|37.558147|126.943799|\n",
      "| 1000017|   Seoul|      Jongno-gu| true|Korea Campus Crus...|        7|37.594782|126.968022|\n",
      "| 1000018|   Seoul|     Gangnam-gu| true|Gangnam Yeoksam-d...|        6|        -|         -|\n",
      "| 1000019|   Seoul|from other city| true|Daejeon door-to-d...|        1|        -|         -|\n",
      "| 1000020|   Seoul|   Geumcheon-gu| true|Geumcheon-gu rice...|        6|        -|         -|\n",
      "+--------+--------+---------------+-----+--------------------+---------+---------+----------+\n",
      "only showing top 20 rows\n",
      "\n"
     ]
    }
   ],
   "source": [
    "cases.show()"
   ]
  },
  {
   "cell_type": "code",
   "execution_count": 6,
   "metadata": {},
   "outputs": [],
   "source": [
    "cases = cases.withColumnRenamed('infection_case','infection_source')"
   ]
  },
  {
   "cell_type": "code",
   "execution_count": 7,
   "metadata": {},
   "outputs": [],
   "source": [
    "cases = cases.select('province','city','infection_source','confirmed')"
   ]
  },
  {
   "cell_type": "code",
   "execution_count": 8,
   "metadata": {},
   "outputs": [
    {
     "name": "stdout",
     "output_type": "stream",
     "text": [
      "+-----------------+---------------+--------------------+---------+\n",
      "|         province|           city|    infection_source|confirmed|\n",
      "+-----------------+---------------+--------------------+---------+\n",
      "|          Jeju-do|              -|contact with patient|        0|\n",
      "|       Gangwon-do|              -|contact with patient|        0|\n",
      "|            Seoul|     Gangseo-gu|SJ Investment Cal...|        0|\n",
      "|            Busan|from other city|Cheongdo Daenam H...|        1|\n",
      "|     Jeollabuk-do|from other city|  Shincheonji Church|        1|\n",
      "|            Seoul|from other city|Anyang Gunpo Past...|        1|\n",
      "|            Seoul|     Gangnam-gu|Gangnam Dongin Ch...|        1|\n",
      "|           Sejong|from other city|  Shincheonji Church|        1|\n",
      "|     Jeollanam-do|from other city|  Shincheonji Church|        1|\n",
      "|          Jeju-do|from other city|       Itaewon Clubs|        1|\n",
      "|            Seoul|from other city|Daejeon door-to-d...|        1|\n",
      "|            Seoul|              -|         Orange Life|        1|\n",
      "|           Sejong|              -|                 etc|        1|\n",
      "|          Gwangju|              -|                 etc|        1|\n",
      "|            Daegu|from other city|       Itaewon Clubs|        2|\n",
      "|            Daegu|from other city|Cheongdo Daenam H...|        2|\n",
      "|          Incheon|from other city|  Shincheonji Church|        2|\n",
      "|            Seoul|from other city|Uiwang Logistics ...|        2|\n",
      "|          Daejeon|from other city|  Shincheonji Church|        2|\n",
      "|Chungcheongbuk-do|from other city| Guro-gu Call Center|        2|\n",
      "+-----------------+---------------+--------------------+---------+\n",
      "only showing top 20 rows\n",
      "\n"
     ]
    }
   ],
   "source": [
    "cases.sort('confirmed').show()"
   ]
  },
  {
   "cell_type": "code",
   "execution_count": 9,
   "metadata": {},
   "outputs": [
    {
     "name": "stdout",
     "output_type": "stream",
     "text": [
      "+-----------------+---------------+--------------------+---------+\n",
      "|         province|           city|    infection_source|confirmed|\n",
      "+-----------------+---------------+--------------------+---------+\n",
      "|            Daegu|         Nam-gu|  Shincheonji Church|     4511|\n",
      "|            Daegu|              -|contact with patient|      917|\n",
      "|            Daegu|              -|                 etc|      747|\n",
      "| Gyeongsangbuk-do|from other city|  Shincheonji Church|      566|\n",
      "|      Gyeonggi-do|              -|     overseas inflow|      305|\n",
      "|            Seoul|              -|     overseas inflow|      298|\n",
      "|            Daegu|   Dalseong-gun|Second Mi-Ju Hosp...|      196|\n",
      "| Gyeongsangbuk-do|              -|contact with patient|      190|\n",
      "|            Seoul|              -|contact with patient|      162|\n",
      "|            Seoul|     Yongsan-gu|       Itaewon Clubs|      139|\n",
      "| Gyeongsangbuk-do|              -|                 etc|      133|\n",
      "|            Daegu|         Seo-gu|Hansarang Convale...|      124|\n",
      "|            Seoul|      Gwanak-gu|             Richway|      119|\n",
      "| Gyeongsangbuk-do|   Cheongdo-gun|Cheongdo Daenam H...|      119|\n",
      "|Chungcheongnam-do|     Cheonan-si|gym facility in C...|      103|\n",
      "|            Daegu|   Dalseong-gun|Daesil Convalesce...|      101|\n",
      "|            Seoul|              -|                 etc|      100|\n",
      "|            Seoul|        Guro-gu| Guro-gu Call Center|       95|\n",
      "|      Gyeonggi-do|              -|                 etc|       84|\n",
      "|          Incheon|              -|     overseas inflow|       68|\n",
      "+-----------------+---------------+--------------------+---------+\n",
      "only showing top 20 rows\n",
      "\n"
     ]
    }
   ],
   "source": [
    "import pyspark.sql.functions as F\n",
    "\n",
    "cases.sort(F.desc('confirmed')).show()"
   ]
  },
  {
   "cell_type": "code",
   "execution_count": 10,
   "metadata": {},
   "outputs": [
    {
     "data": {
      "text/plain": [
       "<bound method DataFrame.printSchema of DataFrame[province: string, city: string, infection_source: string, confirmed: int]>"
      ]
     },
     "execution_count": 10,
     "metadata": {},
     "output_type": "execute_result"
    }
   ],
   "source": [
    "import pyspark.sql.types as T\n",
    "\n",
    "\n",
    "cases.printSchema"
   ]
  },
  {
   "cell_type": "code",
   "execution_count": 11,
   "metadata": {},
   "outputs": [
    {
     "data": {
      "text/plain": [
       "[('province', 'string'),\n",
       " ('city', 'string'),\n",
       " ('infection_source', 'string'),\n",
       " ('confirmed', 'int')]"
      ]
     },
     "execution_count": 11,
     "metadata": {},
     "output_type": "execute_result"
    }
   ],
   "source": [
    "cases.dtypes"
   ]
  },
  {
   "cell_type": "code",
   "execution_count": 12,
   "metadata": {},
   "outputs": [
    {
     "name": "stdout",
     "output_type": "stream",
     "text": [
      "root\n",
      " |-- province: string (nullable = true)\n",
      " |-- city: string (nullable = true)\n",
      " |-- infection_source: string (nullable = true)\n",
      " |-- confirmed: double (nullable = true)\n",
      "\n"
     ]
    }
   ],
   "source": [
    "cases.withColumn('confirmed',F.col('confirmed').cast(T.DoubleType())).printSchema()"
   ]
  },
  {
   "cell_type": "code",
   "execution_count": 13,
   "metadata": {},
   "outputs": [
    {
     "data": {
      "text/plain": [
       "[('province', 'string'),\n",
       " ('city', 'string'),\n",
       " ('infection_source', 'string'),\n",
       " ('confirmed', 'int')]"
      ]
     },
     "execution_count": 13,
     "metadata": {},
     "output_type": "execute_result"
    }
   ],
   "source": [
    "cases.dtypes"
   ]
  },
  {
   "cell_type": "code",
   "execution_count": 14,
   "metadata": {},
   "outputs": [],
   "source": [
    "filt = ((cases.confirmed>10)& (cases.province=='Daegu'))"
   ]
  },
  {
   "cell_type": "code",
   "execution_count": 15,
   "metadata": {},
   "outputs": [
    {
     "name": "stdout",
     "output_type": "stream",
     "text": [
      "+--------+------------+--------------------+---------+\n",
      "|province|        city|    infection_source|confirmed|\n",
      "+--------+------------+--------------------+---------+\n",
      "|   Daegu|      Nam-gu|  Shincheonji Church|     4511|\n",
      "|   Daegu|Dalseong-gun|Second Mi-Ju Hosp...|      196|\n",
      "|   Daegu|      Seo-gu|Hansarang Convale...|      124|\n",
      "|   Daegu|Dalseong-gun|Daesil Convalesce...|      101|\n",
      "|   Daegu|     Dong-gu|     Fatima Hospital|       39|\n",
      "|   Daegu|           -|     overseas inflow|       41|\n",
      "|   Daegu|           -|contact with patient|      917|\n",
      "|   Daegu|           -|                 etc|      747|\n",
      "+--------+------------+--------------------+---------+\n",
      "\n"
     ]
    }
   ],
   "source": [
    "cases.filter(filt).show()"
   ]
  },
  {
   "cell_type": "code",
   "execution_count": 16,
   "metadata": {},
   "outputs": [
    {
     "name": "stdout",
     "output_type": "stream",
     "text": [
      "+----------------+---------------+--------------+--------------+--------------+\n",
      "|        province|           city|sum(confirmed)|max(confirmed)|min(confirmed)|\n",
      "+----------------+---------------+--------------+--------------+--------------+\n",
      "|Gyeongsangnam-do|       Jinju-si|             9|             9|             9|\n",
      "|           Seoul|        Guro-gu|           139|            95|             3|\n",
      "|           Seoul|     Gangnam-gu|            18|             7|             1|\n",
      "|         Daejeon|              -|           100|            55|            15|\n",
      "|    Jeollabuk-do|from other city|             6|             3|             1|\n",
      "|Gyeongsangnam-do|Changnyeong-gun|             7|             7|             7|\n",
      "|           Seoul|              -|           561|           298|             1|\n",
      "|         Jeju-do|from other city|             1|             1|             1|\n",
      "|Gyeongsangbuk-do|              -|           345|           190|            22|\n",
      "|Gyeongsangnam-do|   Geochang-gun|            18|            10|             8|\n",
      "|Gyeongsangbuk-do|        Gumi-si|            10|            10|            10|\n",
      "|         Incheon|from other city|           117|            53|             2|\n",
      "|           Busan|              -|            85|            36|            19|\n",
      "|           Daegu|         Seo-gu|           124|           124|           124|\n",
      "|           Busan|     Suyeong-gu|             5|             5|             5|\n",
      "|     Gyeonggi-do|   Uijeongbu-si|            50|            50|            50|\n",
      "|           Seoul|     Yongsan-gu|           139|           139|           139|\n",
      "|           Daegu|              -|          1705|           917|            41|\n",
      "|           Seoul|   Seodaemun-gu|             5|             5|             5|\n",
      "|     Gyeonggi-do|    Seongnam-si|            94|            67|             5|\n",
      "+----------------+---------------+--------------+--------------+--------------+\n",
      "only showing top 20 rows\n",
      "\n"
     ]
    }
   ],
   "source": [
    "cases.groupBy(['province','city']).agg(F.sum('confirmed'),F.max('confirmed'),F.min('confirmed')).show()"
   ]
  },
  {
   "cell_type": "code",
   "execution_count": 17,
   "metadata": {},
   "outputs": [],
   "source": [
    "regions = spark.read.csv('C:\\\\Users\\\\admin\\\\Desktop\\\\spark-data\\\\Region.csv',inferSchema=True,header=True)"
   ]
  },
  {
   "cell_type": "code",
   "execution_count": 18,
   "metadata": {},
   "outputs": [
    {
     "name": "stdout",
     "output_type": "stream",
     "text": [
      "+-----+--------+-------------+---------+----------+-----------------------+------------------+----------------+-------------+------------------------+-------------------+------------------+\n",
      "| code|province|         city| latitude| longitude|elementary_school_count|kindergarten_count|university_count|academy_ratio|elderly_population_ratio|elderly_alone_ratio|nursing_home_count|\n",
      "+-----+--------+-------------+---------+----------+-----------------------+------------------+----------------+-------------+------------------------+-------------------+------------------+\n",
      "|10000|   Seoul|        Seoul|37.566953|126.977977|                    607|               830|              48|         1.44|                   15.38|                5.8|             22739|\n",
      "|10010|   Seoul|   Gangnam-gu|37.518421|127.047222|                     33|                38|               0|         4.18|                   13.17|                4.3|              3088|\n",
      "|10020|   Seoul|  Gangdong-gu|37.530492|127.123837|                     27|                32|               0|         1.54|                   14.55|                5.4|              1023|\n",
      "|10030|   Seoul|   Gangbuk-gu|37.639938|127.025508|                     14|                21|               0|         0.67|                   19.49|                8.5|               628|\n",
      "|10040|   Seoul|   Gangseo-gu|37.551166|126.849506|                     36|                56|               1|         1.17|                   14.39|                5.7|              1080|\n",
      "|10050|   Seoul|    Gwanak-gu| 37.47829|126.951502|                     22|                33|               1|         0.89|                   15.12|                4.9|               909|\n",
      "|10060|   Seoul|  Gwangjin-gu|37.538712|127.082366|                     22|                33|               3|         1.16|                   13.75|                4.8|               723|\n",
      "|10070|   Seoul|      Guro-gu|37.495632| 126.88765|                     26|                34|               3|          1.0|                   16.21|                5.7|               741|\n",
      "|10080|   Seoul| Geumcheon-gu|37.456852|126.895229|                     18|                19|               0|         0.96|                   16.15|                6.7|               475|\n",
      "|10090|   Seoul|     Nowon-gu|37.654259|127.056294|                     42|                66|               6|         1.39|                    15.4|                7.4|               952|\n",
      "|10100|   Seoul|    Dobong-gu|37.668952|127.047082|                     23|                26|               1|         0.95|                   17.89|                7.2|               485|\n",
      "|10110|   Seoul|Dongdaemun-gu|37.574552|127.039721|                     21|                31|               4|         1.06|                   17.26|                6.7|               832|\n",
      "|10120|   Seoul|   Dongjak-gu|37.510571|126.963604|                     21|                34|               3|         1.17|                   15.85|                5.2|               762|\n",
      "|10130|   Seoul|      Mapo-gu|37.566283|126.901644|                     22|                24|               2|         1.83|                   14.05|                4.9|               929|\n",
      "|10140|   Seoul| Seodaemun-gu|37.579428|126.936771|                     19|                25|               6|         1.12|                   16.77|                6.2|               587|\n",
      "|10150|   Seoul|    Seocho-gu|37.483804|127.032693|                     24|                27|               1|          2.6|                   13.39|                3.8|              1465|\n",
      "|10160|   Seoul| Seongdong-gu|37.563277|127.036647|                     21|                30|               2|         0.97|                   14.76|                5.3|               593|\n",
      "|10170|   Seoul|  Seongbuk-gu|37.589562|  127.0167|                     29|                49|               6|         1.02|                   16.15|                6.0|               729|\n",
      "|10180|   Seoul|    Songpa-gu| 37.51462|127.106141|                     40|                51|               1|         1.65|                    13.1|                4.1|              1527|\n",
      "|10190|   Seoul| Yangcheon-gu|37.517189|126.866618|                     30|                43|               0|         2.26|                   13.55|                5.5|               816|\n",
      "+-----+--------+-------------+---------+----------+-----------------------+------------------+----------------+-------------+------------------------+-------------------+------------------+\n",
      "only showing top 20 rows\n",
      "\n"
     ]
    }
   ],
   "source": [
    "regions.show()"
   ]
  },
  {
   "cell_type": "code",
   "execution_count": 19,
   "metadata": {},
   "outputs": [],
   "source": [
    "cases1 = cases.join(regions,['province','city'],how='left')"
   ]
  },
  {
   "cell_type": "code",
   "execution_count": 20,
   "metadata": {},
   "outputs": [
    {
     "data": {
      "text/html": [
       "<div>\n",
       "<style scoped>\n",
       "    .dataframe tbody tr th:only-of-type {\n",
       "        vertical-align: middle;\n",
       "    }\n",
       "\n",
       "    .dataframe tbody tr th {\n",
       "        vertical-align: top;\n",
       "    }\n",
       "\n",
       "    .dataframe thead th {\n",
       "        text-align: right;\n",
       "    }\n",
       "</style>\n",
       "<table border=\"1\" class=\"dataframe\">\n",
       "  <thead>\n",
       "    <tr style=\"text-align: right;\">\n",
       "      <th></th>\n",
       "      <th>province</th>\n",
       "      <th>city</th>\n",
       "      <th>infection_source</th>\n",
       "      <th>confirmed</th>\n",
       "      <th>code</th>\n",
       "      <th>latitude</th>\n",
       "      <th>longitude</th>\n",
       "      <th>elementary_school_count</th>\n",
       "      <th>kindergarten_count</th>\n",
       "      <th>university_count</th>\n",
       "      <th>academy_ratio</th>\n",
       "      <th>elderly_population_ratio</th>\n",
       "      <th>elderly_alone_ratio</th>\n",
       "      <th>nursing_home_count</th>\n",
       "    </tr>\n",
       "  </thead>\n",
       "  <tbody>\n",
       "    <tr>\n",
       "      <th>0</th>\n",
       "      <td>Seoul</td>\n",
       "      <td>Yongsan-gu</td>\n",
       "      <td>Itaewon Clubs</td>\n",
       "      <td>139</td>\n",
       "      <td>10210.0</td>\n",
       "      <td>37.532768</td>\n",
       "      <td>126.990021</td>\n",
       "      <td>15.0</td>\n",
       "      <td>13.0</td>\n",
       "      <td>1.0</td>\n",
       "      <td>0.68</td>\n",
       "      <td>16.87</td>\n",
       "      <td>6.5</td>\n",
       "      <td>435.0</td>\n",
       "    </tr>\n",
       "    <tr>\n",
       "      <th>1</th>\n",
       "      <td>Seoul</td>\n",
       "      <td>Gwanak-gu</td>\n",
       "      <td>Richway</td>\n",
       "      <td>119</td>\n",
       "      <td>10050.0</td>\n",
       "      <td>37.478290</td>\n",
       "      <td>126.951502</td>\n",
       "      <td>22.0</td>\n",
       "      <td>33.0</td>\n",
       "      <td>1.0</td>\n",
       "      <td>0.89</td>\n",
       "      <td>15.12</td>\n",
       "      <td>4.9</td>\n",
       "      <td>909.0</td>\n",
       "    </tr>\n",
       "    <tr>\n",
       "      <th>2</th>\n",
       "      <td>Seoul</td>\n",
       "      <td>Guro-gu</td>\n",
       "      <td>Guro-gu Call Center</td>\n",
       "      <td>95</td>\n",
       "      <td>10070.0</td>\n",
       "      <td>37.495632</td>\n",
       "      <td>126.887650</td>\n",
       "      <td>26.0</td>\n",
       "      <td>34.0</td>\n",
       "      <td>3.0</td>\n",
       "      <td>1.00</td>\n",
       "      <td>16.21</td>\n",
       "      <td>5.7</td>\n",
       "      <td>741.0</td>\n",
       "    </tr>\n",
       "    <tr>\n",
       "      <th>3</th>\n",
       "      <td>Seoul</td>\n",
       "      <td>Yangcheon-gu</td>\n",
       "      <td>Yangcheon Table Tennis Club</td>\n",
       "      <td>43</td>\n",
       "      <td>10190.0</td>\n",
       "      <td>37.517189</td>\n",
       "      <td>126.866618</td>\n",
       "      <td>30.0</td>\n",
       "      <td>43.0</td>\n",
       "      <td>0.0</td>\n",
       "      <td>2.26</td>\n",
       "      <td>13.55</td>\n",
       "      <td>5.5</td>\n",
       "      <td>816.0</td>\n",
       "    </tr>\n",
       "    <tr>\n",
       "      <th>4</th>\n",
       "      <td>Seoul</td>\n",
       "      <td>Dobong-gu</td>\n",
       "      <td>Day Care Center</td>\n",
       "      <td>43</td>\n",
       "      <td>10100.0</td>\n",
       "      <td>37.668952</td>\n",
       "      <td>127.047082</td>\n",
       "      <td>23.0</td>\n",
       "      <td>26.0</td>\n",
       "      <td>1.0</td>\n",
       "      <td>0.95</td>\n",
       "      <td>17.89</td>\n",
       "      <td>7.2</td>\n",
       "      <td>485.0</td>\n",
       "    </tr>\n",
       "    <tr>\n",
       "      <th>5</th>\n",
       "      <td>Seoul</td>\n",
       "      <td>Guro-gu</td>\n",
       "      <td>Manmin Central Church</td>\n",
       "      <td>41</td>\n",
       "      <td>10070.0</td>\n",
       "      <td>37.495632</td>\n",
       "      <td>126.887650</td>\n",
       "      <td>26.0</td>\n",
       "      <td>34.0</td>\n",
       "      <td>3.0</td>\n",
       "      <td>1.00</td>\n",
       "      <td>16.21</td>\n",
       "      <td>5.7</td>\n",
       "      <td>741.0</td>\n",
       "    </tr>\n",
       "    <tr>\n",
       "      <th>6</th>\n",
       "      <td>Seoul</td>\n",
       "      <td>from other city</td>\n",
       "      <td>SMR Newly Planted Churches Group</td>\n",
       "      <td>36</td>\n",
       "      <td>NaN</td>\n",
       "      <td>NaN</td>\n",
       "      <td>NaN</td>\n",
       "      <td>NaN</td>\n",
       "      <td>NaN</td>\n",
       "      <td>NaN</td>\n",
       "      <td>NaN</td>\n",
       "      <td>NaN</td>\n",
       "      <td>NaN</td>\n",
       "      <td>NaN</td>\n",
       "    </tr>\n",
       "    <tr>\n",
       "      <th>7</th>\n",
       "      <td>Seoul</td>\n",
       "      <td>Dongdaemun-gu</td>\n",
       "      <td>Dongan Church</td>\n",
       "      <td>17</td>\n",
       "      <td>10110.0</td>\n",
       "      <td>37.574552</td>\n",
       "      <td>127.039721</td>\n",
       "      <td>21.0</td>\n",
       "      <td>31.0</td>\n",
       "      <td>4.0</td>\n",
       "      <td>1.06</td>\n",
       "      <td>17.26</td>\n",
       "      <td>6.7</td>\n",
       "      <td>832.0</td>\n",
       "    </tr>\n",
       "    <tr>\n",
       "      <th>8</th>\n",
       "      <td>Seoul</td>\n",
       "      <td>from other city</td>\n",
       "      <td>Coupang Logistics Center</td>\n",
       "      <td>25</td>\n",
       "      <td>NaN</td>\n",
       "      <td>NaN</td>\n",
       "      <td>NaN</td>\n",
       "      <td>NaN</td>\n",
       "      <td>NaN</td>\n",
       "      <td>NaN</td>\n",
       "      <td>NaN</td>\n",
       "      <td>NaN</td>\n",
       "      <td>NaN</td>\n",
       "      <td>NaN</td>\n",
       "    </tr>\n",
       "    <tr>\n",
       "      <th>9</th>\n",
       "      <td>Seoul</td>\n",
       "      <td>Gwanak-gu</td>\n",
       "      <td>Wangsung Church</td>\n",
       "      <td>30</td>\n",
       "      <td>10050.0</td>\n",
       "      <td>37.478290</td>\n",
       "      <td>126.951502</td>\n",
       "      <td>22.0</td>\n",
       "      <td>33.0</td>\n",
       "      <td>1.0</td>\n",
       "      <td>0.89</td>\n",
       "      <td>15.12</td>\n",
       "      <td>4.9</td>\n",
       "      <td>909.0</td>\n",
       "    </tr>\n",
       "  </tbody>\n",
       "</table>\n",
       "</div>"
      ],
      "text/plain": [
       "  province             city                  infection_source  confirmed  \\\n",
       "0    Seoul       Yongsan-gu                     Itaewon Clubs        139   \n",
       "1    Seoul        Gwanak-gu                           Richway        119   \n",
       "2    Seoul          Guro-gu               Guro-gu Call Center         95   \n",
       "3    Seoul     Yangcheon-gu       Yangcheon Table Tennis Club         43   \n",
       "4    Seoul        Dobong-gu                   Day Care Center         43   \n",
       "5    Seoul          Guro-gu             Manmin Central Church         41   \n",
       "6    Seoul  from other city  SMR Newly Planted Churches Group         36   \n",
       "7    Seoul    Dongdaemun-gu                     Dongan Church         17   \n",
       "8    Seoul  from other city          Coupang Logistics Center         25   \n",
       "9    Seoul        Gwanak-gu                   Wangsung Church         30   \n",
       "\n",
       "      code   latitude   longitude  elementary_school_count  \\\n",
       "0  10210.0  37.532768  126.990021                     15.0   \n",
       "1  10050.0  37.478290  126.951502                     22.0   \n",
       "2  10070.0  37.495632  126.887650                     26.0   \n",
       "3  10190.0  37.517189  126.866618                     30.0   \n",
       "4  10100.0  37.668952  127.047082                     23.0   \n",
       "5  10070.0  37.495632  126.887650                     26.0   \n",
       "6      NaN        NaN         NaN                      NaN   \n",
       "7  10110.0  37.574552  127.039721                     21.0   \n",
       "8      NaN        NaN         NaN                      NaN   \n",
       "9  10050.0  37.478290  126.951502                     22.0   \n",
       "\n",
       "   kindergarten_count  university_count  academy_ratio  \\\n",
       "0                13.0               1.0           0.68   \n",
       "1                33.0               1.0           0.89   \n",
       "2                34.0               3.0           1.00   \n",
       "3                43.0               0.0           2.26   \n",
       "4                26.0               1.0           0.95   \n",
       "5                34.0               3.0           1.00   \n",
       "6                 NaN               NaN            NaN   \n",
       "7                31.0               4.0           1.06   \n",
       "8                 NaN               NaN            NaN   \n",
       "9                33.0               1.0           0.89   \n",
       "\n",
       "   elderly_population_ratio  elderly_alone_ratio  nursing_home_count  \n",
       "0                     16.87                  6.5               435.0  \n",
       "1                     15.12                  4.9               909.0  \n",
       "2                     16.21                  5.7               741.0  \n",
       "3                     13.55                  5.5               816.0  \n",
       "4                     17.89                  7.2               485.0  \n",
       "5                     16.21                  5.7               741.0  \n",
       "6                       NaN                  NaN                 NaN  \n",
       "7                     17.26                  6.7               832.0  \n",
       "8                       NaN                  NaN                 NaN  \n",
       "9                     15.12                  4.9               909.0  "
      ]
     },
     "execution_count": 20,
     "metadata": {},
     "output_type": "execute_result"
    }
   ],
   "source": [
    "cases1.limit(10).toPandas()"
   ]
  },
  {
   "cell_type": "code",
   "execution_count": 21,
   "metadata": {},
   "outputs": [
    {
     "data": {
      "text/html": [
       "<div>\n",
       "<style scoped>\n",
       "    .dataframe tbody tr th:only-of-type {\n",
       "        vertical-align: middle;\n",
       "    }\n",
       "\n",
       "    .dataframe tbody tr th {\n",
       "        vertical-align: top;\n",
       "    }\n",
       "\n",
       "    .dataframe thead th {\n",
       "        text-align: right;\n",
       "    }\n",
       "</style>\n",
       "<table border=\"1\" class=\"dataframe\">\n",
       "  <thead>\n",
       "    <tr style=\"text-align: right;\">\n",
       "      <th></th>\n",
       "      <th>province</th>\n",
       "      <th>city</th>\n",
       "      <th>infection_source</th>\n",
       "      <th>confirmed</th>\n",
       "      <th>code</th>\n",
       "      <th>latitude</th>\n",
       "      <th>longitude</th>\n",
       "      <th>elementary_school_count</th>\n",
       "      <th>kindergarten_count</th>\n",
       "      <th>university_count</th>\n",
       "      <th>academy_ratio</th>\n",
       "      <th>elderly_population_ratio</th>\n",
       "      <th>elderly_alone_ratio</th>\n",
       "      <th>nursing_home_count</th>\n",
       "    </tr>\n",
       "  </thead>\n",
       "  <tbody>\n",
       "    <tr>\n",
       "      <th>0</th>\n",
       "      <td>Seoul</td>\n",
       "      <td>Yongsan-gu</td>\n",
       "      <td>Itaewon Clubs</td>\n",
       "      <td>139</td>\n",
       "      <td>10210.0</td>\n",
       "      <td>37.532768</td>\n",
       "      <td>126.990021</td>\n",
       "      <td>15.0</td>\n",
       "      <td>13.0</td>\n",
       "      <td>1.0</td>\n",
       "      <td>0.68</td>\n",
       "      <td>16.87</td>\n",
       "      <td>6.5</td>\n",
       "      <td>435.0</td>\n",
       "    </tr>\n",
       "    <tr>\n",
       "      <th>1</th>\n",
       "      <td>Seoul</td>\n",
       "      <td>Gwanak-gu</td>\n",
       "      <td>Richway</td>\n",
       "      <td>119</td>\n",
       "      <td>10050.0</td>\n",
       "      <td>37.478290</td>\n",
       "      <td>126.951502</td>\n",
       "      <td>22.0</td>\n",
       "      <td>33.0</td>\n",
       "      <td>1.0</td>\n",
       "      <td>0.89</td>\n",
       "      <td>15.12</td>\n",
       "      <td>4.9</td>\n",
       "      <td>909.0</td>\n",
       "    </tr>\n",
       "    <tr>\n",
       "      <th>2</th>\n",
       "      <td>Seoul</td>\n",
       "      <td>Guro-gu</td>\n",
       "      <td>Guro-gu Call Center</td>\n",
       "      <td>95</td>\n",
       "      <td>10070.0</td>\n",
       "      <td>37.495632</td>\n",
       "      <td>126.887650</td>\n",
       "      <td>26.0</td>\n",
       "      <td>34.0</td>\n",
       "      <td>3.0</td>\n",
       "      <td>1.00</td>\n",
       "      <td>16.21</td>\n",
       "      <td>5.7</td>\n",
       "      <td>741.0</td>\n",
       "    </tr>\n",
       "    <tr>\n",
       "      <th>3</th>\n",
       "      <td>Seoul</td>\n",
       "      <td>Yangcheon-gu</td>\n",
       "      <td>Yangcheon Table Tennis Club</td>\n",
       "      <td>43</td>\n",
       "      <td>10190.0</td>\n",
       "      <td>37.517189</td>\n",
       "      <td>126.866618</td>\n",
       "      <td>30.0</td>\n",
       "      <td>43.0</td>\n",
       "      <td>0.0</td>\n",
       "      <td>2.26</td>\n",
       "      <td>13.55</td>\n",
       "      <td>5.5</td>\n",
       "      <td>816.0</td>\n",
       "    </tr>\n",
       "    <tr>\n",
       "      <th>4</th>\n",
       "      <td>Seoul</td>\n",
       "      <td>Dobong-gu</td>\n",
       "      <td>Day Care Center</td>\n",
       "      <td>43</td>\n",
       "      <td>10100.0</td>\n",
       "      <td>37.668952</td>\n",
       "      <td>127.047082</td>\n",
       "      <td>23.0</td>\n",
       "      <td>26.0</td>\n",
       "      <td>1.0</td>\n",
       "      <td>0.95</td>\n",
       "      <td>17.89</td>\n",
       "      <td>7.2</td>\n",
       "      <td>485.0</td>\n",
       "    </tr>\n",
       "    <tr>\n",
       "      <th>...</th>\n",
       "      <td>...</td>\n",
       "      <td>...</td>\n",
       "      <td>...</td>\n",
       "      <td>...</td>\n",
       "      <td>...</td>\n",
       "      <td>...</td>\n",
       "      <td>...</td>\n",
       "      <td>...</td>\n",
       "      <td>...</td>\n",
       "      <td>...</td>\n",
       "      <td>...</td>\n",
       "      <td>...</td>\n",
       "      <td>...</td>\n",
       "      <td>...</td>\n",
       "    </tr>\n",
       "    <tr>\n",
       "      <th>169</th>\n",
       "      <td>Gyeongsangnam-do</td>\n",
       "      <td>-</td>\n",
       "      <td>etc</td>\n",
       "      <td>20</td>\n",
       "      <td>NaN</td>\n",
       "      <td>NaN</td>\n",
       "      <td>NaN</td>\n",
       "      <td>NaN</td>\n",
       "      <td>NaN</td>\n",
       "      <td>NaN</td>\n",
       "      <td>NaN</td>\n",
       "      <td>NaN</td>\n",
       "      <td>NaN</td>\n",
       "      <td>NaN</td>\n",
       "    </tr>\n",
       "    <tr>\n",
       "      <th>170</th>\n",
       "      <td>Jeju-do</td>\n",
       "      <td>-</td>\n",
       "      <td>overseas inflow</td>\n",
       "      <td>14</td>\n",
       "      <td>NaN</td>\n",
       "      <td>NaN</td>\n",
       "      <td>NaN</td>\n",
       "      <td>NaN</td>\n",
       "      <td>NaN</td>\n",
       "      <td>NaN</td>\n",
       "      <td>NaN</td>\n",
       "      <td>NaN</td>\n",
       "      <td>NaN</td>\n",
       "      <td>NaN</td>\n",
       "    </tr>\n",
       "    <tr>\n",
       "      <th>171</th>\n",
       "      <td>Jeju-do</td>\n",
       "      <td>-</td>\n",
       "      <td>contact with patient</td>\n",
       "      <td>0</td>\n",
       "      <td>NaN</td>\n",
       "      <td>NaN</td>\n",
       "      <td>NaN</td>\n",
       "      <td>NaN</td>\n",
       "      <td>NaN</td>\n",
       "      <td>NaN</td>\n",
       "      <td>NaN</td>\n",
       "      <td>NaN</td>\n",
       "      <td>NaN</td>\n",
       "      <td>NaN</td>\n",
       "    </tr>\n",
       "    <tr>\n",
       "      <th>172</th>\n",
       "      <td>Jeju-do</td>\n",
       "      <td>-</td>\n",
       "      <td>etc</td>\n",
       "      <td>4</td>\n",
       "      <td>NaN</td>\n",
       "      <td>NaN</td>\n",
       "      <td>NaN</td>\n",
       "      <td>NaN</td>\n",
       "      <td>NaN</td>\n",
       "      <td>NaN</td>\n",
       "      <td>NaN</td>\n",
       "      <td>NaN</td>\n",
       "      <td>NaN</td>\n",
       "      <td>NaN</td>\n",
       "    </tr>\n",
       "    <tr>\n",
       "      <th>173</th>\n",
       "      <td>Jeju-do</td>\n",
       "      <td>from other city</td>\n",
       "      <td>Itaewon Clubs</td>\n",
       "      <td>1</td>\n",
       "      <td>NaN</td>\n",
       "      <td>NaN</td>\n",
       "      <td>NaN</td>\n",
       "      <td>NaN</td>\n",
       "      <td>NaN</td>\n",
       "      <td>NaN</td>\n",
       "      <td>NaN</td>\n",
       "      <td>NaN</td>\n",
       "      <td>NaN</td>\n",
       "      <td>NaN</td>\n",
       "    </tr>\n",
       "  </tbody>\n",
       "</table>\n",
       "<p>174 rows × 14 columns</p>\n",
       "</div>"
      ],
      "text/plain": [
       "             province             city             infection_source  \\\n",
       "0               Seoul       Yongsan-gu                Itaewon Clubs   \n",
       "1               Seoul        Gwanak-gu                      Richway   \n",
       "2               Seoul          Guro-gu          Guro-gu Call Center   \n",
       "3               Seoul     Yangcheon-gu  Yangcheon Table Tennis Club   \n",
       "4               Seoul        Dobong-gu              Day Care Center   \n",
       "..                ...              ...                          ...   \n",
       "169  Gyeongsangnam-do                -                          etc   \n",
       "170           Jeju-do                -              overseas inflow   \n",
       "171           Jeju-do                -         contact with patient   \n",
       "172           Jeju-do                -                          etc   \n",
       "173           Jeju-do  from other city                Itaewon Clubs   \n",
       "\n",
       "     confirmed     code   latitude   longitude  elementary_school_count  \\\n",
       "0          139  10210.0  37.532768  126.990021                     15.0   \n",
       "1          119  10050.0  37.478290  126.951502                     22.0   \n",
       "2           95  10070.0  37.495632  126.887650                     26.0   \n",
       "3           43  10190.0  37.517189  126.866618                     30.0   \n",
       "4           43  10100.0  37.668952  127.047082                     23.0   \n",
       "..         ...      ...        ...         ...                      ...   \n",
       "169         20      NaN        NaN         NaN                      NaN   \n",
       "170         14      NaN        NaN         NaN                      NaN   \n",
       "171          0      NaN        NaN         NaN                      NaN   \n",
       "172          4      NaN        NaN         NaN                      NaN   \n",
       "173          1      NaN        NaN         NaN                      NaN   \n",
       "\n",
       "     kindergarten_count  university_count  academy_ratio  \\\n",
       "0                  13.0               1.0           0.68   \n",
       "1                  33.0               1.0           0.89   \n",
       "2                  34.0               3.0           1.00   \n",
       "3                  43.0               0.0           2.26   \n",
       "4                  26.0               1.0           0.95   \n",
       "..                  ...               ...            ...   \n",
       "169                 NaN               NaN            NaN   \n",
       "170                 NaN               NaN            NaN   \n",
       "171                 NaN               NaN            NaN   \n",
       "172                 NaN               NaN            NaN   \n",
       "173                 NaN               NaN            NaN   \n",
       "\n",
       "     elderly_population_ratio  elderly_alone_ratio  nursing_home_count  \n",
       "0                       16.87                  6.5               435.0  \n",
       "1                       15.12                  4.9               909.0  \n",
       "2                       16.21                  5.7               741.0  \n",
       "3                       13.55                  5.5               816.0  \n",
       "4                       17.89                  7.2               485.0  \n",
       "..                        ...                  ...                 ...  \n",
       "169                       NaN                  NaN                 NaN  \n",
       "170                       NaN                  NaN                 NaN  \n",
       "171                       NaN                  NaN                 NaN  \n",
       "172                       NaN                  NaN                 NaN  \n",
       "173                       NaN                  NaN                 NaN  \n",
       "\n",
       "[174 rows x 14 columns]"
      ]
     },
     "execution_count": 21,
     "metadata": {},
     "output_type": "execute_result"
    }
   ],
   "source": [
    "cases.join(F.broadcast(regions),['province','city'],how='left').toPandas()"
   ]
  },
  {
   "cell_type": "code",
   "execution_count": 22,
   "metadata": {},
   "outputs": [
    {
     "data": {
      "text/plain": [
       "DataFrame[province: string, city: string, infection_source: string, confirmed: int]"
      ]
     },
     "execution_count": 22,
     "metadata": {},
     "output_type": "execute_result"
    }
   ],
   "source": [
    "cases"
   ]
  },
  {
   "cell_type": "code",
   "execution_count": 23,
   "metadata": {},
   "outputs": [
    {
     "data": {
      "text/plain": [
       "DataFrame[code: int, province: string, city: string, latitude: double, longitude: double, elementary_school_count: int, kindergarten_count: int, university_count: int, academy_ratio: double, elderly_population_ratio: double, elderly_alone_ratio: double, nursing_home_count: int]"
      ]
     },
     "execution_count": 23,
     "metadata": {},
     "output_type": "execute_result"
    }
   ],
   "source": [
    "regions"
   ]
  },
  {
   "cell_type": "code",
   "execution_count": 24,
   "metadata": {},
   "outputs": [],
   "source": [
    "from pyspark.sql import types as T\n",
    "\n",
    "def caseshighlow(confirmed):\n",
    "    if confirmed < 50:\n",
    "        return 'low'\n",
    "    else:\n",
    "        return 'high'\n",
    "    \n",
    "    \n",
    "    "
   ]
  },
  {
   "cell_type": "code",
   "execution_count": 25,
   "metadata": {},
   "outputs": [
    {
     "name": "stdout",
     "output_type": "stream",
     "text": [
      "+--------+---------------+--------------------+---------+-------+\n",
      "|province|           city|    infection_source|confirmed|HighLow|\n",
      "+--------+---------------+--------------------+---------+-------+\n",
      "|   Seoul|     Yongsan-gu|       Itaewon Clubs|      139|   high|\n",
      "|   Seoul|      Gwanak-gu|             Richway|      119|   high|\n",
      "|   Seoul|        Guro-gu| Guro-gu Call Center|       95|   high|\n",
      "|   Seoul|   Yangcheon-gu|Yangcheon Table T...|       43|    low|\n",
      "|   Seoul|      Dobong-gu|     Day Care Center|       43|    low|\n",
      "|   Seoul|        Guro-gu|Manmin Central Ch...|       41|    low|\n",
      "|   Seoul|from other city|SMR Newly Planted...|       36|    low|\n",
      "|   Seoul|  Dongdaemun-gu|       Dongan Church|       17|    low|\n",
      "|   Seoul|from other city|Coupang Logistics...|       25|    low|\n",
      "|   Seoul|      Gwanak-gu|     Wangsung Church|       30|    low|\n",
      "|   Seoul|   Eunpyeong-gu|Eunpyeong St. Mar...|       14|    low|\n",
      "|   Seoul|   Seongdong-gu|    Seongdong-gu APT|       13|    low|\n",
      "|   Seoul|      Jongno-gu|Jongno Community ...|       10|    low|\n",
      "|   Seoul|     Gangnam-gu|Samsung Medical C...|        7|    low|\n",
      "|   Seoul|        Jung-gu|Jung-gu Fashion C...|        7|    low|\n",
      "|   Seoul|   Seodaemun-gu|  Yeonana News Class|        5|    low|\n",
      "|   Seoul|      Jongno-gu|Korea Campus Crus...|        7|    low|\n",
      "|   Seoul|     Gangnam-gu|Gangnam Yeoksam-d...|        6|    low|\n",
      "|   Seoul|from other city|Daejeon door-to-d...|        1|    low|\n",
      "|   Seoul|   Geumcheon-gu|Geumcheon-gu rice...|        6|    low|\n",
      "+--------+---------------+--------------------+---------+-------+\n",
      "only showing top 20 rows\n",
      "\n"
     ]
    }
   ],
   "source": [
    "caseshighlowUDF = F.udf(caseshighlow, T.StringType())\n",
    "\n",
    "caseswithighlowUDF = cases.withColumn(\"HighLow\",caseshighlowUDF('confirmed'))\n",
    "\n",
    "caseswithighlowUDF.show()"
   ]
  },
  {
   "cell_type": "code",
   "execution_count": 26,
   "metadata": {},
   "outputs": [],
   "source": [
    "df = spark.read.csv('C:\\\\Users\\\\admin\\\\Desktop\\\\spark-data\\\\syn_fraud_data.csv',inferSchema=True,header=True)"
   ]
  },
  {
   "cell_type": "code",
   "execution_count": 27,
   "metadata": {},
   "outputs": [
    {
     "name": "stdout",
     "output_type": "stream",
     "text": [
      "root\n",
      " |-- step: integer (nullable = true)\n",
      " |-- type: string (nullable = true)\n",
      " |-- amount: double (nullable = true)\n",
      " |-- nameOrig: string (nullable = true)\n",
      " |-- oldbalanceOrg: double (nullable = true)\n",
      " |-- newbalanceOrig: double (nullable = true)\n",
      " |-- nameDest: string (nullable = true)\n",
      " |-- oldbalanceDest: double (nullable = true)\n",
      " |-- newbalanceDest: double (nullable = true)\n",
      " |-- isFraud: integer (nullable = true)\n",
      " |-- isFlaggedFraud: integer (nullable = true)\n",
      "\n"
     ]
    }
   ],
   "source": [
    "df.printSchema()"
   ]
  },
  {
   "cell_type": "code",
   "execution_count": 28,
   "metadata": {},
   "outputs": [
    {
     "name": "stdout",
     "output_type": "stream",
     "text": [
      "+----+--------+--------+-----------+-------------+--------------+-----------+--------------+--------------+-------+--------------+\n",
      "|step|    type|  amount|   nameOrig|oldbalanceOrg|newbalanceOrig|   nameDest|oldbalanceDest|newbalanceDest|isFraud|isFlaggedFraud|\n",
      "+----+--------+--------+-----------+-------------+--------------+-----------+--------------+--------------+-------+--------------+\n",
      "|   1| PAYMENT| 9839.64|C1231006815|     170136.0|     160296.36|M1979787155|           0.0|           0.0|      0|             0|\n",
      "|   1| PAYMENT| 1864.28|C1666544295|      21249.0|      19384.72|M2044282225|           0.0|           0.0|      0|             0|\n",
      "|   1|TRANSFER|   181.0|C1305486145|        181.0|           0.0| C553264065|           0.0|           0.0|      1|             0|\n",
      "|   1|CASH_OUT|   181.0| C840083671|        181.0|           0.0|  C38997010|       21182.0|           0.0|      1|             0|\n",
      "|   1| PAYMENT|11668.14|C2048537720|      41554.0|      29885.86|M1230701703|           0.0|           0.0|      0|             0|\n",
      "+----+--------+--------+-----------+-------------+--------------+-----------+--------------+--------------+-------+--------------+\n",
      "only showing top 5 rows\n",
      "\n"
     ]
    }
   ],
   "source": [
    "df.show(5)"
   ]
  },
  {
   "cell_type": "code",
   "execution_count": 29,
   "metadata": {},
   "outputs": [
    {
     "data": {
      "text/plain": [
       "['step',\n",
       " 'type',\n",
       " 'amount',\n",
       " 'nameOrig',\n",
       " 'oldbalanceOrg',\n",
       " 'newbalanceOrig',\n",
       " 'nameDest',\n",
       " 'oldbalanceDest',\n",
       " 'newbalanceDest',\n",
       " 'isFraud',\n",
       " 'isFlaggedFraud']"
      ]
     },
     "execution_count": 29,
     "metadata": {},
     "output_type": "execute_result"
    }
   ],
   "source": [
    "df.columns"
   ]
  },
  {
   "cell_type": "code",
   "execution_count": 30,
   "metadata": {},
   "outputs": [],
   "source": [
    "df = df.select('type','amount','oldbalanceOrg','newbalanceOrig','isFraud')"
   ]
  },
  {
   "cell_type": "code",
   "execution_count": 31,
   "metadata": {},
   "outputs": [
    {
     "name": "stdout",
     "output_type": "stream",
     "text": [
      "+--------+--------+-------------+--------------+-------+\n",
      "|    type|  amount|oldbalanceOrg|newbalanceOrig|isFraud|\n",
      "+--------+--------+-------------+--------------+-------+\n",
      "| PAYMENT| 9839.64|     170136.0|     160296.36|      0|\n",
      "| PAYMENT| 1864.28|      21249.0|      19384.72|      0|\n",
      "|TRANSFER|   181.0|        181.0|           0.0|      1|\n",
      "|CASH_OUT|   181.0|        181.0|           0.0|      1|\n",
      "| PAYMENT|11668.14|      41554.0|      29885.86|      0|\n",
      "+--------+--------+-------------+--------------+-------+\n",
      "only showing top 5 rows\n",
      "\n"
     ]
    }
   ],
   "source": [
    "df.show(5)"
   ]
  },
  {
   "cell_type": "code",
   "execution_count": 32,
   "metadata": {},
   "outputs": [
    {
     "data": {
      "text/plain": [
       "6362620"
      ]
     },
     "execution_count": 32,
     "metadata": {},
     "output_type": "execute_result"
    }
   ],
   "source": [
    "df.count()"
   ]
  },
  {
   "cell_type": "code",
   "execution_count": 33,
   "metadata": {},
   "outputs": [],
   "source": [
    "train, test = df.randomSplit([0.7,0.3],seed=7)"
   ]
  },
  {
   "cell_type": "code",
   "execution_count": 34,
   "metadata": {},
   "outputs": [
    {
     "data": {
      "text/plain": [
       "4453790"
      ]
     },
     "execution_count": 34,
     "metadata": {},
     "output_type": "execute_result"
    }
   ],
   "source": [
    "train.count()"
   ]
  },
  {
   "cell_type": "code",
   "execution_count": 35,
   "metadata": {},
   "outputs": [
    {
     "data": {
      "text/plain": [
       "1908830"
      ]
     },
     "execution_count": 35,
     "metadata": {},
     "output_type": "execute_result"
    }
   ],
   "source": [
    "test.count()"
   ]
  },
  {
   "cell_type": "code",
   "execution_count": 36,
   "metadata": {},
   "outputs": [
    {
     "data": {
      "text/plain": [
       "[('type', 'string'),\n",
       " ('amount', 'double'),\n",
       " ('oldbalanceOrg', 'double'),\n",
       " ('newbalanceOrig', 'double'),\n",
       " ('isFraud', 'int')]"
      ]
     },
     "execution_count": 36,
     "metadata": {},
     "output_type": "execute_result"
    }
   ],
   "source": [
    "train.dtypes"
   ]
  },
  {
   "cell_type": "code",
   "execution_count": 37,
   "metadata": {},
   "outputs": [],
   "source": [
    "catcols = [ x for (x,dataType) in train.dtypes if dataType == 'string']\n",
    "\n",
    "numcols = [x for (x,dataType) in train.dtypes if ((dataType == 'double') & (x != 'isFraud'))]"
   ]
  },
  {
   "cell_type": "code",
   "execution_count": 38,
   "metadata": {},
   "outputs": [
    {
     "name": "stdout",
     "output_type": "stream",
     "text": [
      "['type']\n",
      "['amount', 'oldbalanceOrg', 'newbalanceOrig']\n"
     ]
    }
   ],
   "source": [
    "print(catcols)\n",
    "print(numcols)"
   ]
  },
  {
   "cell_type": "code",
   "execution_count": 39,
   "metadata": {},
   "outputs": [
    {
     "name": "stdout",
     "output_type": "stream",
     "text": [
      "+--------+\n",
      "|    type|\n",
      "+--------+\n",
      "|TRANSFER|\n",
      "| CASH_IN|\n",
      "|CASH_OUT|\n",
      "| PAYMENT|\n",
      "|   DEBIT|\n",
      "+--------+\n",
      "\n"
     ]
    }
   ],
   "source": [
    "train.select('type').distinct().show()"
   ]
  },
  {
   "cell_type": "code",
   "execution_count": 40,
   "metadata": {},
   "outputs": [
    {
     "name": "stdout",
     "output_type": "stream",
     "text": [
      "+--------+-------+\n",
      "|    type|  count|\n",
      "+--------+-------+\n",
      "|TRANSFER| 372981|\n",
      "| CASH_IN| 980154|\n",
      "|CASH_OUT|1565206|\n",
      "| PAYMENT|1506515|\n",
      "|   DEBIT|  28934|\n",
      "+--------+-------+\n",
      "\n"
     ]
    }
   ],
   "source": [
    "train.groupBy('type').count().show()"
   ]
  },
  {
   "cell_type": "code",
   "execution_count": 41,
   "metadata": {},
   "outputs": [],
   "source": [
    "from pyspark.ml.feature import OneHotEncoderEstimator, StringIndexer\n",
    "\n",
    "\n",
    "string_indexer = [StringIndexer(inputCol=x,outputCol=x + \"_StringIndexer\",handleInvalid=\"skip\")\n",
    "                              for x in catcols]"
   ]
  },
  {
   "cell_type": "code",
   "execution_count": 44,
   "metadata": {},
   "outputs": [
    {
     "name": "stdout",
     "output_type": "stream",
     "text": [
      "+-------+------+-------------+--------------+-------+------------+\n",
      "|   type|amount|oldbalanceOrg|newbalanceOrig|isFraud|type_indexed|\n",
      "+-------+------+-------------+--------------+-------+------------+\n",
      "|CASH_IN|  4.35|   4136277.22|    4136281.57|      0|         2.0|\n",
      "|CASH_IN|  4.58|      94241.0|      94245.58|      0|         2.0|\n",
      "|CASH_IN|  4.71|      50198.0|      50202.71|      0|         2.0|\n",
      "|CASH_IN|  5.19|      18104.0|      18109.19|      0|         2.0|\n",
      "|CASH_IN|  5.44|          0.0|          5.44|      0|         2.0|\n",
      "+-------+------+-------------+--------------+-------+------------+\n",
      "only showing top 5 rows\n",
      "\n"
     ]
    }
   ],
   "source": [
    "indexer = StringIndexer(inputCol='type',outputCol='type_indexed')\n",
    "indexed = indexer.fit(train).transform(train)\n",
    "indexed.show(5)"
   ]
  },
  {
   "cell_type": "code",
   "execution_count": 46,
   "metadata": {},
   "outputs": [
    {
     "name": "stdout",
     "output_type": "stream",
     "text": [
      "4453790\n"
     ]
    }
   ],
   "source": [
    "indexed.count()\n",
    "print(train.count())"
   ]
  },
  {
   "cell_type": "code",
   "execution_count": 49,
   "metadata": {},
   "outputs": [],
   "source": [
    "encoder = OneHotEncoderEstimator(inputCols=['type_indexed'],outputCols=['typeVec'],dropLast=True)"
   ]
  },
  {
   "cell_type": "code",
   "execution_count": 50,
   "metadata": {},
   "outputs": [
    {
     "name": "stdout",
     "output_type": "stream",
     "text": [
      "+-------+------+-------------+--------------+-------+------------+-------------+\n",
      "|   type|amount|oldbalanceOrg|newbalanceOrig|isFraud|type_indexed|      typeVec|\n",
      "+-------+------+-------------+--------------+-------+------------+-------------+\n",
      "|CASH_IN|  4.35|   4136277.22|    4136281.57|      0|         2.0|(4,[2],[1.0])|\n",
      "|CASH_IN|  4.58|      94241.0|      94245.58|      0|         2.0|(4,[2],[1.0])|\n",
      "|CASH_IN|  4.71|      50198.0|      50202.71|      0|         2.0|(4,[2],[1.0])|\n",
      "|CASH_IN|  5.19|      18104.0|      18109.19|      0|         2.0|(4,[2],[1.0])|\n",
      "|CASH_IN|  5.44|          0.0|          5.44|      0|         2.0|(4,[2],[1.0])|\n",
      "+-------+------+-------------+--------------+-------+------------+-------------+\n",
      "only showing top 5 rows\n",
      "\n"
     ]
    }
   ],
   "source": [
    "model = encoder.fit(indexed)\n",
    "encoded = model.transform(indexed)\n",
    "encoded.show(5)"
   ]
  },
  {
   "cell_type": "code",
   "execution_count": null,
   "metadata": {},
   "outputs": [],
   "source": [
    "from pyspark.ml.linalg import Vectors\n",
    "from pyspark.ml.feature import VectorAssembler\n",
    "\n"
   ]
  },
  {
   "cell_type": "code",
   "execution_count": null,
   "metadata": {},
   "outputs": [],
   "source": []
  },
  {
   "cell_type": "code",
   "execution_count": null,
   "metadata": {},
   "outputs": [],
   "source": [
    "string_indexer"
   ]
  },
  {
   "cell_type": "code",
   "execution_count": null,
   "metadata": {},
   "outputs": [],
   "source": [
    "one_hot_encoder = [\n",
    "    OneHotEncoderEstimator(\n",
    "        inputCols=[f\"{x}_StringIndexer\" for x in catcols],\n",
    "        outputCols=[f\"{x}_OneHotEncoder\" for x in catcols],\n",
    ")]"
   ]
  },
  {
   "cell_type": "code",
   "execution_count": null,
   "metadata": {},
   "outputs": [],
   "source": [
    "from pyspark.ml.feature import VectorAssembler "
   ]
  },
  {
   "cell_type": "code",
   "execution_count": 52,
   "metadata": {},
   "outputs": [],
   "source": [
    "assemblerinput = [ x for x in catcols]\n",
    "assemblerinput += [f\"{x}_OneHotEncoder\" for x in catcols]"
   ]
  },
  {
   "cell_type": "code",
   "execution_count": 55,
   "metadata": {},
   "outputs": [
    {
     "data": {
      "text/plain": [
       "['type', 'type_OneHotEncoder']"
      ]
     },
     "execution_count": 55,
     "metadata": {},
     "output_type": "execute_result"
    }
   ],
   "source": [
    "assemblerinput"
   ]
  },
  {
   "cell_type": "code",
   "execution_count": 62,
   "metadata": {},
   "outputs": [
    {
     "ename": "AttributeError",
     "evalue": "'str' object has no attribute 'items'",
     "output_type": "error",
     "traceback": [
      "\u001b[1;31m---------------------------------------------------------------------------\u001b[0m",
      "\u001b[1;31mAttributeError\u001b[0m                            Traceback (most recent call last)",
      "\u001b[1;32m<ipython-input-62-ccb703bf053e>\u001b[0m in \u001b[0;36m<module>\u001b[1;34m\u001b[0m\n\u001b[1;32m----> 1\u001b[1;33m \u001b[1;32mfor\u001b[0m \u001b[0mi\u001b[0m \u001b[1;32min\u001b[0m \u001b[0massemblerinput\u001b[0m\u001b[1;33m[\u001b[0m\u001b[1;36m1\u001b[0m\u001b[1;33m]\u001b[0m\u001b[1;33m.\u001b[0m\u001b[0mitems\u001b[0m\u001b[1;33m:\u001b[0m\u001b[1;33m\u001b[0m\u001b[1;33m\u001b[0m\u001b[0m\n\u001b[0m\u001b[0;32m      2\u001b[0m     \u001b[0mprint\u001b[0m\u001b[1;33m(\u001b[0m\u001b[0mi\u001b[0m\u001b[1;33m)\u001b[0m\u001b[1;33m\u001b[0m\u001b[1;33m\u001b[0m\u001b[0m\n",
      "\u001b[1;31mAttributeError\u001b[0m: 'str' object has no attribute 'items'"
     ]
    }
   ],
   "source": []
  },
  {
   "cell_type": "code",
   "execution_count": null,
   "metadata": {},
   "outputs": [],
   "source": [
    "vector_assembler = VectorAssembler(inputCols=assemblerinput,outputCol=\"VectorAssembler_features\")"
   ]
  },
  {
   "cell_type": "code",
   "execution_count": null,
   "metadata": {},
   "outputs": [],
   "source": [
    "stages = []\n",
    "stages += string_indexer\n",
    "stages += one_hot_encoder\n",
    "stages +=[vector_assembler]"
   ]
  },
  {
   "cell_type": "code",
   "execution_count": null,
   "metadata": {},
   "outputs": [],
   "source": [
    "stages"
   ]
  },
  {
   "cell_type": "code",
   "execution_count": null,
   "metadata": {},
   "outputs": [],
   "source": [
    "%%time\n",
    "from pyspark.ml import Pipeline\n",
    "\n",
    "pipeline = Pipeline().setStages(stages)\n",
    "model = pipeline.fit(train)\n",
    "\n",
    "pp_df = model.transform(test)"
   ]
  },
  {
   "cell_type": "code",
   "execution_count": null,
   "metadata": {
    "scrolled": true
   },
   "outputs": [],
   "source": []
  },
  {
   "cell_type": "code",
   "execution_count": null,
   "metadata": {},
   "outputs": [],
   "source": []
  }
 ],
 "metadata": {
  "kernelspec": {
   "display_name": "Python 3",
   "language": "python",
   "name": "python3"
  },
  "language_info": {
   "codemirror_mode": {
    "name": "ipython",
    "version": 3
   },
   "file_extension": ".py",
   "mimetype": "text/x-python",
   "name": "python",
   "nbconvert_exporter": "python",
   "pygments_lexer": "ipython3",
   "version": "3.7.9"
  }
 },
 "nbformat": 4,
 "nbformat_minor": 4
}
