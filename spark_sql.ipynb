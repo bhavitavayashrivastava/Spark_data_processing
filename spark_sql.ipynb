{
 "cells": [
  {
   "cell_type": "code",
   "execution_count": 1,
   "metadata": {},
   "outputs": [],
   "source": [
    "import findspark\n",
    "findspark.init()\n",
    "from pyspark.sql import SparkSession\n",
    "\n",
    "spark = SparkSession.builder.getOrCreate()"
   ]
  },
  {
   "cell_type": "code",
   "execution_count": 7,
   "metadata": {},
   "outputs": [],
   "source": [
    "data = spark.sparkContext.textFile('C:\\\\Users\\\\admin\\\\Desktop\\\\spark-data\\\\books.csv')"
   ]
  },
  {
   "cell_type": "code",
   "execution_count": 8,
   "metadata": {},
   "outputs": [
    {
     "data": {
      "text/plain": [
       "['id,book_id,best_book_id,work_id,books_count,isbn,isbn13,authors,original_publication_year,original_title,title,language_code,average_rating,ratings_count,work_ratings_count,work_text_reviews_count,ratings_1,ratings_2,ratings_3,ratings_4,ratings_5,image_url,small_image_url']"
      ]
     },
     "execution_count": 8,
     "metadata": {},
     "output_type": "execute_result"
    }
   ],
   "source": [
    "data.top(1)"
   ]
  },
  {
   "cell_type": "code",
   "execution_count": 9,
   "metadata": {},
   "outputs": [],
   "source": [
    "df = spark.read.csv('C:\\\\Users\\\\admin\\\\Desktop\\\\spark-data\\\\books.csv',header =True,inferSchema=True)"
   ]
  },
  {
   "cell_type": "code",
   "execution_count": 10,
   "metadata": {},
   "outputs": [
    {
     "name": "stdout",
     "output_type": "stream",
     "text": [
      "root\n",
      " |-- id: integer (nullable = true)\n",
      " |-- book_id: integer (nullable = true)\n",
      " |-- best_book_id: integer (nullable = true)\n",
      " |-- work_id: integer (nullable = true)\n",
      " |-- books_count: integer (nullable = true)\n",
      " |-- isbn: string (nullable = true)\n",
      " |-- isbn13: double (nullable = true)\n",
      " |-- authors: string (nullable = true)\n",
      " |-- original_publication_year: double (nullable = true)\n",
      " |-- original_title: string (nullable = true)\n",
      " |-- title: string (nullable = true)\n",
      " |-- language_code: string (nullable = true)\n",
      " |-- average_rating: string (nullable = true)\n",
      " |-- ratings_count: string (nullable = true)\n",
      " |-- work_ratings_count: string (nullable = true)\n",
      " |-- work_text_reviews_count: string (nullable = true)\n",
      " |-- ratings_1: double (nullable = true)\n",
      " |-- ratings_2: integer (nullable = true)\n",
      " |-- ratings_3: integer (nullable = true)\n",
      " |-- ratings_4: integer (nullable = true)\n",
      " |-- ratings_5: integer (nullable = true)\n",
      " |-- image_url: string (nullable = true)\n",
      " |-- small_image_url: string (nullable = true)\n",
      "\n"
     ]
    }
   ],
   "source": [
    "df.printSchema()"
   ]
  },
  {
   "cell_type": "code",
   "execution_count": 11,
   "metadata": {},
   "outputs": [
    {
     "data": {
      "text/plain": [
       "['id',\n",
       " 'book_id',\n",
       " 'best_book_id',\n",
       " 'work_id',\n",
       " 'books_count',\n",
       " 'isbn',\n",
       " 'isbn13',\n",
       " 'authors',\n",
       " 'original_publication_year',\n",
       " 'original_title',\n",
       " 'title',\n",
       " 'language_code',\n",
       " 'average_rating',\n",
       " 'ratings_count',\n",
       " 'work_ratings_count',\n",
       " 'work_text_reviews_count',\n",
       " 'ratings_1',\n",
       " 'ratings_2',\n",
       " 'ratings_3',\n",
       " 'ratings_4',\n",
       " 'ratings_5',\n",
       " 'image_url',\n",
       " 'small_image_url']"
      ]
     },
     "execution_count": 11,
     "metadata": {},
     "output_type": "execute_result"
    }
   ],
   "source": [
    "df.columns"
   ]
  },
  {
   "cell_type": "code",
   "execution_count": 12,
   "metadata": {},
   "outputs": [
    {
     "data": {
      "text/plain": [
       "23"
      ]
     },
     "execution_count": 12,
     "metadata": {},
     "output_type": "execute_result"
    }
   ],
   "source": [
    "len(df.columns)"
   ]
  },
  {
   "cell_type": "code",
   "execution_count": 13,
   "metadata": {},
   "outputs": [
    {
     "data": {
      "text/plain": [
       "10000"
      ]
     },
     "execution_count": 13,
     "metadata": {},
     "output_type": "execute_result"
    }
   ],
   "source": [
    "df.count()"
   ]
  },
  {
   "cell_type": "code",
   "execution_count": 14,
   "metadata": {},
   "outputs": [],
   "source": [
    "ratings_df = spark.read.csv('C:\\\\Users\\\\admin\\\\Desktop\\\\spark-data\\\\ratings.csv',header =True,inferSchema=True)"
   ]
  },
  {
   "cell_type": "code",
   "execution_count": 15,
   "metadata": {},
   "outputs": [
    {
     "data": {
      "text/plain": [
       "981756"
      ]
     },
     "execution_count": 15,
     "metadata": {},
     "output_type": "execute_result"
    }
   ],
   "source": [
    "ratings_df.count()"
   ]
  },
  {
   "cell_type": "code",
   "execution_count": 16,
   "metadata": {},
   "outputs": [
    {
     "name": "stdout",
     "output_type": "stream",
     "text": [
      "+-------+------------------+-----------------+----------------+-------------------+-----------------+-------------------+--------------------+--------------------+-------------------------+------------------+-----------------------------------+--------------------+--------------------+-----------------+--------------------+-----------------------+-----------------+-----------------+-----------------+------------------+-----------------+--------------------+--------------------+\n",
      "|summary|                id|          book_id|    best_book_id|            work_id|      books_count|               isbn|              isbn13|             authors|original_publication_year|    original_title|                              title|       language_code|      average_rating|    ratings_count|  work_ratings_count|work_text_reviews_count|        ratings_1|        ratings_2|        ratings_3|         ratings_4|        ratings_5|           image_url|     small_image_url|\n",
      "+-------+------------------+-----------------+----------------+-------------------+-----------------+-------------------+--------------------+--------------------+-------------------------+------------------+-----------------------------------+--------------------+--------------------+-----------------+--------------------+-----------------------+-----------------+-----------------+-----------------+------------------+-----------------+--------------------+--------------------+\n",
      "|  count|             10000|            10000|           10000|              10000|            10000|               9300|                9415|               10000|                     9979|              9415|                              10000|                8916|               10000|            10000|               10000|                  10000|            10000|            10000|            10000|             10000|            10000|               10000|               10000|\n",
      "|   mean|            5000.5|     5264696.5132|    5471213.5801|       8646183.4246|          75.7127|7.483353556817111E8|9.755044298883463E12|                null|        1981.987674115643|1497.8333333333333|                 1567.2857142857142|                null|  4.0021624324864975|54003.90110111011|   59692.25862586259|      2922.014901490149|      1345.179918|        3111.6312|        11476.402|        19965.1288|        23789.205|              4530.0|              1553.0|\n",
      "| stddev|2886.8956799071675|7575461.863589594|7827329.89071998|1.175106082408002E7|170.4707276502584|9.779311117903123E8|4.428619206655723E11|                null|       152.57666516754645|1088.0077971534333|                 1010.0657922937024|                null|  0.2544444289254295|157377.7001999715|  167811.44396015457|      6127.088904232268|6635.626350674322|9717.227578140139|28546.36995932021|51447.536825270276|79769.03535387228|   5868.986283848344|                 NaN|\n",
      "|    min|                 1|                1|               1|                 87|                1|         000100039X|        1.95170342E8|    A. Manette Ansay|                  -1750.0|                  |                   \"\"The Lost Boy\"\"| \"\"A Man Named Da...|\"My Story: \"\"A Ch...| \"\"The Lost Boy\"\"| \"\"A Man Named Da...|                    100|             4.18|               30|              323|               590|              137|                 380|                1553|\n",
      "|    max|             10000|         33288638|        35534230|           56399597|             3455|         9993911550|    9.79000767239E12|يوسف زيدان, Youss...|                   2017.0|       채식주의자 |美少女戦士セーラームーン新装版 1...|                 vie|                 eng|             9995|               99971|                  en-US|         456191.0|           436802|           793319|           1481305|          3011543|https://s.gr-asse...|https://s.gr-asse...|\n",
      "+-------+------------------+-----------------+----------------+-------------------+-----------------+-------------------+--------------------+--------------------+-------------------------+------------------+-----------------------------------+--------------------+--------------------+-----------------+--------------------+-----------------------+-----------------+-----------------+-----------------+------------------+-----------------+--------------------+--------------------+\n",
      "\n"
     ]
    }
   ],
   "source": [
    "df.describe().show()"
   ]
  },
  {
   "cell_type": "code",
   "execution_count": 17,
   "metadata": {},
   "outputs": [
    {
     "name": "stdout",
     "output_type": "stream",
     "text": [
      "+-------+-----------------+------------------+------------------+\n",
      "|summary|          book_id|           user_id|            rating|\n",
      "+-------+-----------------+------------------+------------------+\n",
      "|  count|           981756|            981756|            981756|\n",
      "|   mean|4943.275635697668|25616.759933221696|3.8565335989797873|\n",
      "| stddev|2873.207414896143|15228.338825882149|0.9839408559619973|\n",
      "|    min|                1|                 1|                 1|\n",
      "|    max|            10000|             53424|                 5|\n",
      "+-------+-----------------+------------------+------------------+\n",
      "\n"
     ]
    }
   ],
   "source": [
    "ratings_df.describe().show()"
   ]
  },
  {
   "cell_type": "code",
   "execution_count": 19,
   "metadata": {},
   "outputs": [
    {
     "name": "stdout",
     "output_type": "stream",
     "text": [
      "+-------+-------+------+\n",
      "|book_id|user_id|rating|\n",
      "+-------+-------+------+\n",
      "|     10|   7001|     4|\n",
      "|     13|  29819|     4|\n",
      "|     13|  49297|     5|\n",
      "|     16|  28158|     4|\n",
      "|     18|  15318|     3|\n",
      "|     19|   3922|     5|\n",
      "|     20|  10288|     2|\n",
      "|     20|  47730|     5|\n",
      "|     22|  16377|     5|\n",
      "|     25|  24582|     5|\n",
      "|     28|  47800|     5|\n",
      "|     30|   6630|     3|\n",
      "|     30|  10610|     5|\n",
      "|     31|   5379|     4|\n",
      "|     31|  19526|     5|\n",
      "|     35|   1169|     1|\n",
      "|     35|  11285|     3|\n",
      "|     38|  36099|     4|\n",
      "|     40|  14248|     3|\n",
      "|     41|  10249|     5|\n",
      "+-------+-------+------+\n",
      "only showing top 20 rows\n",
      "\n"
     ]
    }
   ],
   "source": [
    "ratings_df.dropDuplicates().show()"
   ]
  },
  {
   "cell_type": "code",
   "execution_count": 20,
   "metadata": {},
   "outputs": [
    {
     "data": {
      "text/plain": [
       "981756"
      ]
     },
     "execution_count": 20,
     "metadata": {},
     "output_type": "execute_result"
    }
   ],
   "source": [
    "ratings_df.count()"
   ]
  },
  {
   "cell_type": "code",
   "execution_count": 22,
   "metadata": {},
   "outputs": [
    {
     "data": {
      "text/plain": [
       "981756"
      ]
     },
     "execution_count": 22,
     "metadata": {},
     "output_type": "execute_result"
    }
   ],
   "source": [
    "ratings_df.dropna('any').count()"
   ]
  },
  {
   "cell_type": "code",
   "execution_count": 23,
   "metadata": {},
   "outputs": [
    {
     "data": {
      "text/html": [
       "<div>\n",
       "<style scoped>\n",
       "    .dataframe tbody tr th:only-of-type {\n",
       "        vertical-align: middle;\n",
       "    }\n",
       "\n",
       "    .dataframe tbody tr th {\n",
       "        vertical-align: top;\n",
       "    }\n",
       "\n",
       "    .dataframe thead th {\n",
       "        text-align: right;\n",
       "    }\n",
       "</style>\n",
       "<table border=\"1\" class=\"dataframe\">\n",
       "  <thead>\n",
       "    <tr style=\"text-align: right;\">\n",
       "      <th></th>\n",
       "      <th>rating</th>\n",
       "      <th>count</th>\n",
       "    </tr>\n",
       "  </thead>\n",
       "  <tbody>\n",
       "    <tr>\n",
       "      <th>0</th>\n",
       "      <td>1</td>\n",
       "      <td>19575</td>\n",
       "    </tr>\n",
       "    <tr>\n",
       "      <th>1</th>\n",
       "      <td>3</td>\n",
       "      <td>248623</td>\n",
       "    </tr>\n",
       "    <tr>\n",
       "      <th>2</th>\n",
       "      <td>5</td>\n",
       "      <td>292961</td>\n",
       "    </tr>\n",
       "    <tr>\n",
       "      <th>3</th>\n",
       "      <td>4</td>\n",
       "      <td>357366</td>\n",
       "    </tr>\n",
       "    <tr>\n",
       "      <th>4</th>\n",
       "      <td>2</td>\n",
       "      <td>63231</td>\n",
       "    </tr>\n",
       "  </tbody>\n",
       "</table>\n",
       "</div>"
      ],
      "text/plain": [
       "   rating   count\n",
       "0       1   19575\n",
       "1       3  248623\n",
       "2       5  292961\n",
       "3       4  357366\n",
       "4       2   63231"
      ]
     },
     "execution_count": 23,
     "metadata": {},
     "output_type": "execute_result"
    }
   ],
   "source": [
    "ratings_df.groupby('rating').count().toPandas()"
   ]
  },
  {
   "cell_type": "code",
   "execution_count": 25,
   "metadata": {},
   "outputs": [
    {
     "name": "stdout",
     "output_type": "stream",
     "text": [
      "+------+\n",
      "|rating|\n",
      "+------+\n",
      "|     1|\n",
      "|     3|\n",
      "|     5|\n",
      "|     4|\n",
      "|     2|\n",
      "+------+\n",
      "\n"
     ]
    }
   ],
   "source": [
    "ratings_df.select('rating').distinct().show()"
   ]
  },
  {
   "cell_type": "code",
   "execution_count": 26,
   "metadata": {},
   "outputs": [
    {
     "name": "stdout",
     "output_type": "stream",
     "text": [
      "+-----------+\n",
      "|max(rating)|\n",
      "+-----------+\n",
      "|          5|\n",
      "+-----------+\n",
      "\n"
     ]
    }
   ],
   "source": [
    "ratings_df.agg({'rating':'max'}).show()"
   ]
  },
  {
   "cell_type": "code",
   "execution_count": 27,
   "metadata": {},
   "outputs": [
    {
     "data": {
      "text/html": [
       "<div>\n",
       "<style scoped>\n",
       "    .dataframe tbody tr th:only-of-type {\n",
       "        vertical-align: middle;\n",
       "    }\n",
       "\n",
       "    .dataframe tbody tr th {\n",
       "        vertical-align: top;\n",
       "    }\n",
       "\n",
       "    .dataframe thead th {\n",
       "        text-align: right;\n",
       "    }\n",
       "</style>\n",
       "<table border=\"1\" class=\"dataframe\">\n",
       "  <thead>\n",
       "    <tr style=\"text-align: right;\">\n",
       "      <th></th>\n",
       "      <th>rating</th>\n",
       "      <th>count</th>\n",
       "    </tr>\n",
       "  </thead>\n",
       "  <tbody>\n",
       "    <tr>\n",
       "      <th>0</th>\n",
       "      <td>1</td>\n",
       "      <td>19575</td>\n",
       "    </tr>\n",
       "    <tr>\n",
       "      <th>1</th>\n",
       "      <td>3</td>\n",
       "      <td>248623</td>\n",
       "    </tr>\n",
       "    <tr>\n",
       "      <th>2</th>\n",
       "      <td>5</td>\n",
       "      <td>292961</td>\n",
       "    </tr>\n",
       "    <tr>\n",
       "      <th>3</th>\n",
       "      <td>4</td>\n",
       "      <td>357366</td>\n",
       "    </tr>\n",
       "    <tr>\n",
       "      <th>4</th>\n",
       "      <td>2</td>\n",
       "      <td>63231</td>\n",
       "    </tr>\n",
       "  </tbody>\n",
       "</table>\n",
       "</div>"
      ],
      "text/plain": [
       "   rating   count\n",
       "0       1   19575\n",
       "1       3  248623\n",
       "2       5  292961\n",
       "3       4  357366\n",
       "4       2   63231"
      ]
     },
     "execution_count": 27,
     "metadata": {},
     "output_type": "execute_result"
    }
   ],
   "source": [
    "ratings_df.groupby('rating').count().toPandas()"
   ]
  },
  {
   "cell_type": "code",
   "execution_count": 28,
   "metadata": {},
   "outputs": [
    {
     "name": "stdout",
     "output_type": "stream",
     "text": [
      "+------+------+\n",
      "|rating| count|\n",
      "+------+------+\n",
      "|     1| 19575|\n",
      "|     3|248623|\n",
      "|     5|292961|\n",
      "|     4|357366|\n",
      "|     2| 63231|\n",
      "+------+------+\n",
      "\n"
     ]
    }
   ],
   "source": [
    "ratings_df.groupby('rating').count().show()"
   ]
  },
  {
   "cell_type": "code",
   "execution_count": 29,
   "metadata": {},
   "outputs": [
    {
     "name": "stdout",
     "output_type": "stream",
     "text": [
      "+-------+--------------------+\n",
      "|user_id|               title|\n",
      "+-------+--------------------+\n",
      "|    314|Harry Potter and ...|\n",
      "|    439|Harry Potter and ...|\n",
      "|    588|Harry Potter and ...|\n",
      "|   1169|Harry Potter and ...|\n",
      "|   1185|Harry Potter and ...|\n",
      "|   2077|Harry Potter and ...|\n",
      "|   2487|Harry Potter and ...|\n",
      "|   2900|Harry Potter and ...|\n",
      "|   3662|Harry Potter and ...|\n",
      "|   3922|Harry Potter and ...|\n",
      "|   5379|Harry Potter and ...|\n",
      "|   5461|Harry Potter and ...|\n",
      "|   5885|Harry Potter and ...|\n",
      "|   6630|Harry Potter and ...|\n",
      "|   7563|Harry Potter and ...|\n",
      "|   9246|Harry Potter and ...|\n",
      "|  10140|Harry Potter and ...|\n",
      "|  10146|Harry Potter and ...|\n",
      "|  10246|Harry Potter and ...|\n",
      "|  10335|Harry Potter and ...|\n",
      "+-------+--------------------+\n",
      "only showing top 20 rows\n",
      "\n"
     ]
    }
   ],
   "source": [
    "ratings_df.join(df, ratings_df.book_id == df.book_id).select('user_id','title').show()"
   ]
  },
  {
   "cell_type": "code",
   "execution_count": null,
   "metadata": {},
   "outputs": [],
   "source": []
  }
 ],
 "metadata": {
  "kernelspec": {
   "display_name": "Python 3",
   "language": "python",
   "name": "python3"
  },
  "language_info": {
   "codemirror_mode": {
    "name": "ipython",
    "version": 3
   },
   "file_extension": ".py",
   "mimetype": "text/x-python",
   "name": "python",
   "nbconvert_exporter": "python",
   "pygments_lexer": "ipython3",
   "version": "3.7.9"
  }
 },
 "nbformat": 4,
 "nbformat_minor": 4
}
