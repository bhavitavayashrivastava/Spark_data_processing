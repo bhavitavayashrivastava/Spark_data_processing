{
 "cells": [
  {
   "cell_type": "code",
   "execution_count": 1,
   "metadata": {},
   "outputs": [],
   "source": [
    "import findspark\n",
    "findspark.init()\n",
    "from pyspark.sql import SparkSession\n",
    "spark = SparkSession.builder.getOrCreate()"
   ]
  },
  {
   "cell_type": "markdown",
   "metadata": {},
   "source": [
    "# cache()\n",
    "# persist()"
   ]
  },
  {
   "cell_type": "code",
   "execution_count": 2,
   "metadata": {},
   "outputs": [],
   "source": [
    "x_rdd = spark.sparkContext.parallelize([('C',4),('B',3),('A',2),('A',1)])\n",
    "y_rdd = spark.sparkContext.parallelize([('A',8),('B',7),('A',6),('D',5)])"
   ]
  },
  {
   "cell_type": "code",
   "execution_count": 4,
   "metadata": {},
   "outputs": [
    {
     "name": "stdout",
     "output_type": "stream",
     "text": [
      "Values of x_rdd : [('C', 4), ('B', 3), ('A', 2), ('A', 1)]\n",
      "Values of y_rdd : [('A', 8), ('B', 7), ('A', 6), ('D', 5)]\n",
      "Values join x_rdd and y_rdd : [('B', (3, 7)), ('A', (2, 8)), ('A', (2, 6)), ('A', (1, 8)), ('A', (1, 6))]\n"
     ]
    }
   ],
   "source": [
    "# join\n",
    "\n",
    "z_rdd = x_rdd.join(y_rdd)\n",
    "\n",
    "print(\"Values of x_rdd : {0}\".format(x_rdd.collect()))\n",
    "print(\"Values of y_rdd : {0}\".format(y_rdd.collect()) )\n",
    "print(\"Values join x_rdd and y_rdd : {0}\".format(z_rdd.collect()))      "
   ]
  },
  {
   "cell_type": "code",
   "execution_count": 5,
   "metadata": {},
   "outputs": [
    {
     "name": "stdout",
     "output_type": "stream",
     "text": [
      "Values of x_rdd : [('C', 4), ('B', 3), ('A', 2), ('A', 1)]\n",
      "Values of y_rdd : [('A', 8), ('B', 7), ('A', 6), ('D', 5)]\n",
      "Values join x_rdd and y_rdd : [('B', (3, 7)), ('A', (2, 8)), ('A', (2, 6)), ('A', (1, 8)), ('A', (1, 6)), ('D', (None, 5))]\n"
     ]
    }
   ],
   "source": [
    "z_rdd = x_rdd.rightOuterJoin(y_rdd)\n",
    "\n",
    "print(\"Values of x_rdd : {0}\".format(x_rdd.collect()))\n",
    "print(\"Values of y_rdd : {0}\".format(y_rdd.collect()) )\n",
    "print(\"Values join x_rdd and y_rdd : {0}\".format(z_rdd.collect()))      "
   ]
  },
  {
   "cell_type": "code",
   "execution_count": 6,
   "metadata": {},
   "outputs": [
    {
     "name": "stdout",
     "output_type": "stream",
     "text": [
      "Values of x_rdd : [('C', 4), ('B', 3), ('A', 2), ('A', 1)]\n",
      "Values of y_rdd : [('A', 8), ('B', 7), ('A', 6), ('D', 5)]\n",
      "Values join x_rdd and y_rdd : [('B', (7, 3)), ('C', (None, 4)), ('A', (8, 2)), ('A', (8, 1)), ('A', (6, 2)), ('A', (6, 1))]\n"
     ]
    }
   ],
   "source": [
    "z_rdd = y_rdd.rightOuterJoin(x_rdd)\n",
    "\n",
    "print(\"Values of x_rdd : {0}\".format(x_rdd.collect()))\n",
    "print(\"Values of y_rdd : {0}\".format(y_rdd.collect()) )\n",
    "print(\"Values join x_rdd and y_rdd : {0}\".format(z_rdd.collect()))      "
   ]
  },
  {
   "cell_type": "code",
   "execution_count": null,
   "metadata": {},
   "outputs": [],
   "source": []
  }
 ],
 "metadata": {
  "kernelspec": {
   "display_name": "Python 3",
   "language": "python",
   "name": "python3"
  },
  "language_info": {
   "codemirror_mode": {
    "name": "ipython",
    "version": 3
   },
   "file_extension": ".py",
   "mimetype": "text/x-python",
   "name": "python",
   "nbconvert_exporter": "python",
   "pygments_lexer": "ipython3",
   "version": "3.7.9"
  }
 },
 "nbformat": 4,
 "nbformat_minor": 4
}
