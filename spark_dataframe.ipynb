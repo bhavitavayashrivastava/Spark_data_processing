{
 "cells": [
  {
   "cell_type": "code",
   "execution_count": 1,
   "metadata": {},
   "outputs": [
    {
     "name": "stdout",
     "output_type": "stream",
     "text": [
      "+-----+----+----------+\n",
      "| Name| Age| Education|\n",
      "+-----+----+----------+\n",
      "| Azar|  25|MBA,BE,HSC|\n",
      "| Hari|  32|      null|\n",
      "|Kumar|  43|   Diploma|\n",
      "|Manoj|  55| Bcom,Mcom|\n",
      "|Arjun|null|      null|\n",
      "+-----+----+----------+\n",
      "\n"
     ]
    }
   ],
   "source": [
    "import findspark\n",
    "findspark.init()\n",
    "from pyspark.sql import SparkSession\n",
    "\n",
    "spark = SparkSession.builder.getOrCreate()\n",
    "\n",
    "in_df = spark.read.csv('edu.csv',header=True,sep='|')\n",
    "in_df.show()"
   ]
  },
  {
   "cell_type": "code",
   "execution_count": 7,
   "metadata": {},
   "outputs": [
    {
     "name": "stdout",
     "output_type": "stream",
     "text": [
      "+-----+----+----------+-------------+\n",
      "| Name| Age| Education|Qualification|\n",
      "+-----+----+----------+-------------+\n",
      "| Azar|  25|MBA,BE,HSC|          MBA|\n",
      "| Azar|  25|MBA,BE,HSC|           BE|\n",
      "| Azar|  25|MBA,BE,HSC|          HSC|\n",
      "| Hari|  32|      null|         null|\n",
      "|Kumar|  43|   Diploma|      Diploma|\n",
      "|Manoj|  55| Bcom,Mcom|         Bcom|\n",
      "|Manoj|  55| Bcom,Mcom|         Mcom|\n",
      "|Arjun|null|      null|         null|\n",
      "+-----+----+----------+-------------+\n",
      "\n"
     ]
    }
   ],
   "source": [
    "from pyspark.sql.functions import explode_outer,split\n",
    "\n",
    "\n",
    "in_df.withColumn('Qualification',explode_outer(split(\"Education\",','))).show()"
   ]
  },
  {
   "cell_type": "code",
   "execution_count": null,
   "metadata": {},
   "outputs": [],
   "source": []
  }
 ],
 "metadata": {
  "kernelspec": {
   "display_name": "Python 3",
   "language": "python",
   "name": "python3"
  },
  "language_info": {
   "codemirror_mode": {
    "name": "ipython",
    "version": 3
   },
   "file_extension": ".py",
   "mimetype": "text/x-python",
   "name": "python",
   "nbconvert_exporter": "python",
   "pygments_lexer": "ipython3",
   "version": "3.7.9"
  }
 },
 "nbformat": 4,
 "nbformat_minor": 4
}
